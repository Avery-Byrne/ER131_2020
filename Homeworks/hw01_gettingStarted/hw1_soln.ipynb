{
 "cells": [
  {
   "cell_type": "code",
   "execution_count": 1,
   "metadata": {},
   "outputs": [],
   "source": [
    "NAME = \"\" # put your full name here\n",
    "COLLABORATORS = [] # list names of anyone you worked with on this homework.  "
   ]
  },
  {
   "cell_type": "markdown",
   "metadata": {},
   "source": [
    "(A note on collaboration:  You are encouraged to learn from one another by brainstorming solution strategies. However the work you submit must clearly be your own. We will give zero credit for assignment submissions that are identical to one another. If you work with others, be sure to finish assignments on your own. Comments and markdown cells must clearly be your own.)"
   ]
  },
  {
   "cell_type": "markdown",
   "metadata": {},
   "source": [
    "# [ER131] Homework 1: Introduction\n",
    "\n",
    "Welcome to the first homework for this course! We'll go over some Python and NumPy exercises, as well as some mathematics that are helpful for this course. \n",
    "\n",
    "Many of the cells in this notebook contain pre-written code that you can test for yourself. Any cell that says \"Exercise x\" or \"Question x.y\" is followed by an assignment for you to complete; these are the parts of the notebook that will be graded.\n",
    "\n",
    "## Table of Contents\n",
    "1 - [Python](#python)<br>\n",
    "2 - [NumPy](#NumPy)<br>\n",
    "3 - [Multivariable Calculus](#MultiCalc)<br>\n",
    "4 - [Linear Algebra](#LinAlg)<br>\n",
    "\n",
    "**Dependencies:**"
   ]
  },
  {
   "cell_type": "code",
   "execution_count": 2,
   "metadata": {
    "nbgrader": {
     "cell_type": "code",
     "checksum": "996a8f6425097050e05ac9cfbe898e48",
     "grade": false,
     "grade_id": "all-the-imports",
     "locked": false,
     "schema_version": 2,
     "solution": false
    },
    "scrolled": true
   },
   "outputs": [],
   "source": [
    "# Run this cell to import the packages you will need to complete this homework\n",
    "import math\n",
    "import numpy as np\n",
    "import matplotlib\n",
    "%matplotlib inline\n",
    "import matplotlib.pyplot as plt\n",
    "plt.style.use('fivethirtyeight')\n",
    "import pandas as pd"
   ]
  },
  {
   "cell_type": "markdown",
   "metadata": {
    "nbgrader": {
     "cell_type": "markdown",
     "checksum": "70d77ecade2565eb58c37a0bbccaca8e",
     "grade": false,
     "grade_id": "python-tutorial-links",
     "locked": false,
     "schema_version": 2,
     "solution": false
    }
   },
   "source": [
    "----\n",
    "\n",
    "## Section 1: Python  <a id='python'></a>\n",
    "\n",
    "Python is the main programming language we'll use in the course. Go through the following cells and make sure you understand what is happening in each.\n",
    "\n",
    "Feel free to review one or more of the following materials as a refresher.\n",
    "\n",
    "- **[Python Tutorial](https://docs.python.org/3.5/tutorial/)**: Introduction to Python from the creators of Python\n",
    "- **[Composing Programs Chapter 1](http://composingprograms.com/pages/11-getting-started.html)**: This is more of a introduction to programming with Python.\n",
    "- **[Advanced Crash Course](http://cs231n.github.io/python-numpy-tutorial/)**: A fast crash course which assumes some programming background.\n",
    "- **[Jupyter Notebook Basics](https://jupyter-notebook.readthedocs.io/en/stable/examples/Notebook/Notebook%20Basics.html)**: A guide to navigating Jupyter Notebooks, including different parts of the user interface and different ways that cells can be used.\n",
    "\n",
    "<br>\n",
    "\n",
    "**Mathematical Expressions**\n",
    "\n",
    "In this section, we'll go over some basic mathematical expressions in Python."
   ]
  },
  {
   "cell_type": "code",
   "execution_count": 3,
   "metadata": {
    "nbgrader": {
     "cell_type": "code",
     "checksum": "373741ec83109a2bb362b522a6e97858",
     "grade": false,
     "grade_id": "math-sqrt",
     "locked": false,
     "schema_version": 2,
     "solution": false
    }
   },
   "outputs": [
    {
     "data": {
      "text/plain": [
       "0.3427354792736325"
      ]
     },
     "execution_count": 3,
     "metadata": {},
     "output_type": "execute_result"
    }
   ],
   "source": [
    "# In Python, the ** operator performs exponentiation.\n",
    "math.sqrt(math.e ** (-math.pi + 1))"
   ]
  },
  {
   "cell_type": "markdown",
   "metadata": {},
   "source": [
    "*Exercise 1:* Multiply twenty by the sum of one and ten raised to the power of two."
   ]
  },
  {
   "cell_type": "code",
   "execution_count": 4,
   "metadata": {},
   "outputs": [
    {
     "data": {
      "text/plain": [
       "2020.0"
      ]
     },
     "execution_count": 4,
     "metadata": {},
     "output_type": "execute_result"
    }
   ],
   "source": [
    "20*(1+10**2) # one solution\n",
    "20*(1+math.pow(10,2)) #another solution\n",
    "\n",
    "# also accepted answers that resulted in 2420, e.g., 20*(1+10)**2"
   ]
  },
  {
   "cell_type": "markdown",
   "metadata": {
    "nbgrader": {
     "cell_type": "markdown",
     "checksum": "1daa637fcc4cd5d89a98f1fa7a56d294",
     "grade": false,
     "grade_id": "output-and-printing",
     "locked": false,
     "schema_version": 2,
     "solution": false
    }
   },
   "source": [
    "**Output and Printing**\n",
    "\n",
    "Run the code below, and take a look at what prints, versus what doesn't."
   ]
  },
  {
   "cell_type": "code",
   "execution_count": 5,
   "metadata": {
    "nbgrader": {
     "cell_type": "code",
     "checksum": "9ab477866cebf6782c1e5adb03977369",
     "grade": false,
     "grade_id": "why-no-print",
     "locked": false,
     "schema_version": 2,
     "solution": false
    }
   },
   "outputs": [
    {
     "name": "stdout",
     "output_type": "stream",
     "text": [
      "Hello, world!\n"
     ]
    },
    {
     "data": {
      "text/plain": [
       "'Hello, cell output!'"
      ]
     },
     "execution_count": 5,
     "metadata": {},
     "output_type": "execute_result"
    }
   ],
   "source": [
    "\"Why didn't this line print?\"\n",
    "\n",
    "print(\"Hello\" + \",\", \"world!\")\n",
    "\n",
    "\"Hello, cell\" + \" output!\""
   ]
  },
  {
   "cell_type": "markdown",
   "metadata": {},
   "source": [
    "**For Loops**"
   ]
  },
  {
   "cell_type": "markdown",
   "metadata": {},
   "source": [
    "Run the loop below. Then, comment out the \"else\" statement (lines 6 and 7). What happens?"
   ]
  },
  {
   "cell_type": "code",
   "execution_count": 6,
   "metadata": {
    "nbgrader": {
     "cell_type": "code",
     "checksum": "53b1f92b21db1701fb02bc3945fdb329",
     "grade": false,
     "grade_id": "for-loops-code",
     "locked": false,
     "schema_version": 2,
     "solution": false
    }
   },
   "outputs": [
    {
     "name": "stdout",
     "output_type": "stream",
     "text": [
      "1\n",
      "Odd power of 2\n",
      "4\n",
      "Odd power of 2\n",
      "16\n"
     ]
    }
   ],
   "source": [
    "# A for loop repeats a block of code once for each\n",
    "# element in a given collection.\n",
    "for i in range(5):\n",
    "    if i % 2 == 0:\n",
    "        print(2**i)\n",
    "    else:\n",
    "        print(\"Odd power of 2\")  # What happens if you remove the \"else\" statement?"
   ]
  },
  {
   "cell_type": "markdown",
   "metadata": {},
   "source": [
    "**Strings** ([Reference](https://developers.google.com/edu/python/strings))"
   ]
  },
  {
   "cell_type": "markdown",
   "metadata": {},
   "source": [
    "Run the code below. What happens when you try to reassign a letter, as in line 5?"
   ]
  },
  {
   "cell_type": "code",
   "execution_count": 7,
   "metadata": {},
   "outputs": [
    {
     "name": "stdout",
     "output_type": "stream",
     "text": [
      "i\n",
      "2\n",
      "hi there\n"
     ]
    }
   ],
   "source": [
    "s = 'hi'\n",
    "print(s[1])         ## i\n",
    "print(len(s))       ## 2\n",
    "print(s + ' there')\n",
    "# s[1] = 'a' # why doesn't this work?"
   ]
  },
  {
   "cell_type": "code",
   "execution_count": 8,
   "metadata": {},
   "outputs": [
    {
     "name": "stdout",
     "output_type": "stream",
     "text": [
      "The value of Euler's number is 2.718\n"
     ]
    }
   ],
   "source": [
    "e = 2.718\n",
    "# text = 'The value of Euler's number is ' + e      ## NO, does not work\n",
    "text = \"The value of Euler's number is \"  + str(e)  ## yes\n",
    "print(text)"
   ]
  },
  {
   "cell_type": "markdown",
   "metadata": {},
   "source": [
    "*Exercise 2:* write a line of code that will output '2.718 is great!' without explicitly typing out the number."
   ]
  },
  {
   "cell_type": "code",
   "execution_count": 9,
   "metadata": {},
   "outputs": [
    {
     "name": "stdout",
     "output_type": "stream",
     "text": [
      "2.718 is great!\n"
     ]
    }
   ],
   "source": [
    "print(str(e) + \" is great!\")"
   ]
  },
  {
   "cell_type": "markdown",
   "metadata": {},
   "source": [
    "**Lists** ([Reference](https://docs.python.org/3.5/tutorial/introduction.html#lists))"
   ]
  },
  {
   "cell_type": "code",
   "execution_count": 10,
   "metadata": {},
   "outputs": [
    {
     "data": {
      "text/plain": [
       "[1, 4, 9, 16, 25]"
      ]
     },
     "execution_count": 10,
     "metadata": {},
     "output_type": "execute_result"
    }
   ],
   "source": [
    "squares = [1, 4, 9, 16, 25]\n",
    "squares"
   ]
  },
  {
   "cell_type": "code",
   "execution_count": 11,
   "metadata": {},
   "outputs": [
    {
     "name": "stdout",
     "output_type": "stream",
     "text": [
      "1\n",
      "25\n",
      "[9, 16, 25]\n",
      "[1, 4, 9, 16, 25]\n",
      "[1, 4, 9, 16, 25, 36, 49, 64, 81, 100]\n"
     ]
    }
   ],
   "source": [
    "print(squares[0])\n",
    "print(squares[-1])\n",
    "print(squares[-3:])\n",
    "print(squares[:])\n",
    "print(squares + [36, 49, 64, 81, 100])"
   ]
  },
  {
   "cell_type": "markdown",
   "metadata": {},
   "source": [
    "*Exercise 3:* Insert 0 as the first element in `squares``."
   ]
  },
  {
   "cell_type": "code",
   "execution_count": 13,
   "metadata": {},
   "outputs": [
    {
     "data": {
      "text/plain": [
       "[0, 0, 1, 4, 9, 16, 25]"
      ]
     },
     "execution_count": 13,
     "metadata": {},
     "output_type": "execute_result"
    }
   ],
   "source": [
    "# squares = 0 + squares # doesn't work\n",
    "squares = [0] + squares\n",
    "squares\n",
    "\n",
    "# also accepted answers that resulted in [0, 4, 9, 16, 25], e.g., squares.insert(0, 0)"
   ]
  },
  {
   "cell_type": "markdown",
   "metadata": {
    "nbgrader": {
     "cell_type": "markdown",
     "checksum": "ff336c88be61f39380c7984668e88c49",
     "grade": false,
     "grade_id": "list-comprehension",
     "locked": false,
     "schema_version": 2,
     "solution": false
    }
   },
   "source": [
    "**List Comprehension** (<a href=\"https://www.pythonforbeginners.com/lists/list-comprehensions-in-python/\">Reference</a>)"
   ]
  },
  {
   "cell_type": "code",
   "execution_count": 14,
   "metadata": {
    "nbgrader": {
     "cell_type": "code",
     "checksum": "b73efbbf915254c428decbb42230921d",
     "grade": false,
     "grade_id": "list-comp-code",
     "locked": false,
     "schema_version": 2,
     "solution": false
    }
   },
   "outputs": [
    {
     "data": {
      "text/plain": [
       "['1 sheep.', '2 sheep.', '3 sheep.', '4 sheep.']"
      ]
     },
     "execution_count": 14,
     "metadata": {},
     "output_type": "execute_result"
    }
   ],
   "source": [
    "[str(i) + \" sheep.\" for i in range(1,5)] "
   ]
  },
  {
   "cell_type": "code",
   "execution_count": 15,
   "metadata": {
    "nbgrader": {
     "cell_type": "code",
     "checksum": "cf2b95d90c0fd3a6754cbeb83a1523c4",
     "grade": false,
     "grade_id": "more-list-comp-code",
     "locked": false,
     "schema_version": 2,
     "solution": false
    }
   },
   "outputs": [
    {
     "data": {
      "text/plain": [
       "[1, 3, 5, 7, 9]"
      ]
     },
     "execution_count": 15,
     "metadata": {},
     "output_type": "execute_result"
    }
   ],
   "source": [
    "[i for i in range(10) if i % 2 != 0]"
   ]
  },
  {
   "cell_type": "markdown",
   "metadata": {},
   "source": [
    "*Exercise 4:* Write a list comprehension that will give all **even integers** between 1 and 1000 that are squares of other integers (i.e., the first three values in the list are [4, 16, 36, ...])."
   ]
  },
  {
   "cell_type": "code",
   "execution_count": 16,
   "metadata": {},
   "outputs": [
    {
     "data": {
      "text/plain": [
       "[4, 16, 36, 64, 100, 144, 196, 256, 324, 400, 484, 576, 676, 784, 900]"
      ]
     },
     "execution_count": 16,
     "metadata": {},
     "output_type": "execute_result"
    }
   ],
   "source": [
    "[i for i in range(1,1000) if np.sqrt(i) % 2 == 0]"
   ]
  },
  {
   "cell_type": "markdown",
   "metadata": {},
   "source": [
    "**Dictionaries** ([Reference](https://docs.python.org/3.5/tutorial/datastructures.html#dictionaries))"
   ]
  },
  {
   "cell_type": "code",
   "execution_count": 17,
   "metadata": {},
   "outputs": [],
   "source": [
    "tel = {'jack': 4127, 'sape': 4145}\n",
    "tel['john'] = 4127\n",
    "del tel['sape']"
   ]
  },
  {
   "cell_type": "code",
   "execution_count": 18,
   "metadata": {},
   "outputs": [
    {
     "data": {
      "text/plain": [
       "{'jack': 4127, 'john': 4127}"
      ]
     },
     "execution_count": 18,
     "metadata": {},
     "output_type": "execute_result"
    }
   ],
   "source": [
    "tel"
   ]
  },
  {
   "cell_type": "code",
   "execution_count": 19,
   "metadata": {},
   "outputs": [
    {
     "data": {
      "text/plain": [
       "4127"
      ]
     },
     "execution_count": 19,
     "metadata": {},
     "output_type": "execute_result"
    }
   ],
   "source": [
    "tel['jack'] # what happens if you run tel[4127]?"
   ]
  },
  {
   "cell_type": "markdown",
   "metadata": {
    "nbgrader": {
     "cell_type": "markdown",
     "checksum": "4019eddb08e868ba791409d6fc683de2",
     "grade": false,
     "grade_id": "defining-functions",
     "locked": false,
     "schema_version": 2,
     "solution": false
    }
   },
   "source": [
    "**Defining Functions**"
   ]
  },
  {
   "cell_type": "code",
   "execution_count": 20,
   "metadata": {
    "nbgrader": {
     "cell_type": "code",
     "checksum": "661113989cc8f0b9d720538abe72442b",
     "grade": false,
     "grade_id": "add-2-function",
     "locked": false,
     "schema_version": 2,
     "solution": false
    }
   },
   "outputs": [],
   "source": [
    "def add2(x):\n",
    "    \"\"\"This docstring explains what this function does: it adds 2 to a number.\"\"\"\n",
    "    return x + 2"
   ]
  },
  {
   "cell_type": "markdown",
   "metadata": {
    "nbgrader": {
     "cell_type": "markdown",
     "checksum": "c09ded864939c7c63ae05ff2acce1d41",
     "grade": false,
     "grade_id": "get-help",
     "locked": false,
     "schema_version": 2,
     "solution": false
    }
   },
   "source": [
    "**Getting Help**"
   ]
  },
  {
   "cell_type": "code",
   "execution_count": 21,
   "metadata": {
    "nbgrader": {
     "cell_type": "code",
     "checksum": "5ca8b464f0d81a22dbc80a5d3290933c",
     "grade": false,
     "grade_id": "help-add2",
     "locked": false,
     "schema_version": 2,
     "solution": false
    }
   },
   "outputs": [
    {
     "name": "stdout",
     "output_type": "stream",
     "text": [
      "Help on function add2 in module __main__:\n",
      "\n",
      "add2(x)\n",
      "    This docstring explains what this function does: it adds 2 to a number.\n",
      "\n"
     ]
    }
   ],
   "source": [
    "help(add2)"
   ]
  },
  {
   "cell_type": "markdown",
   "metadata": {
    "nbgrader": {
     "cell_type": "markdown",
     "checksum": "912292fe078a9d0a1a657f687a32c36d",
     "grade": false,
     "grade_id": "passing-functions",
     "locked": false,
     "schema_version": 2,
     "solution": false
    }
   },
   "source": [
    "**Passing Functions as Values**"
   ]
  },
  {
   "cell_type": "code",
   "execution_count": 22,
   "metadata": {
    "nbgrader": {
     "cell_type": "code",
     "checksum": "7b21bff1e2ab7845e6e05dc3ba2c077b",
     "grade": false,
     "grade_id": "make-adder",
     "locked": false,
     "schema_version": 2,
     "solution": false
    }
   },
   "outputs": [
    {
     "data": {
      "text/plain": [
       "7"
      ]
     },
     "execution_count": 22,
     "metadata": {},
     "output_type": "execute_result"
    }
   ],
   "source": [
    "def makeAdder(amount):\n",
    "    \"\"\"Make a function that adds the given amount to a number.\"\"\"\n",
    "    def addAmount(x):\n",
    "        return x + amount\n",
    "    return addAmount\n",
    "\n",
    "add3 = makeAdder(3)\n",
    "add3(4)"
   ]
  },
  {
   "cell_type": "code",
   "execution_count": 23,
   "metadata": {
    "nbgrader": {
     "cell_type": "code",
     "checksum": "fd40615aeeb0790416e16438edfe0009",
     "grade": false,
     "grade_id": "make-adder-curry",
     "locked": false,
     "schema_version": 2,
     "solution": false
    }
   },
   "outputs": [
    {
     "data": {
      "text/plain": [
       "7"
      ]
     },
     "execution_count": 23,
     "metadata": {},
     "output_type": "execute_result"
    }
   ],
   "source": [
    "makeAdder(3)(4)"
   ]
  },
  {
   "cell_type": "code",
   "execution_count": 24,
   "metadata": {},
   "outputs": [
    {
     "ename": "TypeError",
     "evalue": "addAmount() missing 1 required positional argument: 'x'",
     "output_type": "error",
     "traceback": [
      "\u001b[1;31m---------------------------------------------------------------------------\u001b[0m",
      "\u001b[1;31mTypeError\u001b[0m                                 Traceback (most recent call last)",
      "\u001b[1;32m<ipython-input-24-a0655df593d7>\u001b[0m in \u001b[0;36m<module>\u001b[1;34m\u001b[0m\n\u001b[1;32m----> 1\u001b[1;33m \u001b[0madd3\u001b[0m\u001b[1;33m(\u001b[0m\u001b[1;33m)\u001b[0m\u001b[1;33m\u001b[0m\u001b[1;33m\u001b[0m\u001b[0m\n\u001b[0m",
      "\u001b[1;31mTypeError\u001b[0m: addAmount() missing 1 required positional argument: 'x'"
     ]
    }
   ],
   "source": [
    "add3()"
   ]
  },
  {
   "cell_type": "markdown",
   "metadata": {},
   "source": [
    "*Exercise 5:* What happens if you don't include an argument for `add3` (i.e. you run the command `add3()`)? Why does it happen?"
   ]
  },
  {
   "cell_type": "markdown",
   "metadata": {},
   "source": [
    "*You get an error saying that `addAmount() is missing 1 required position argument`. This happens because `add3()` calls the function `makeAdder()`, which in turn calls the function `addAmount()`. `addAmount()` needs an argument x to know what to add to the value specified in the argument for `makeAdder()`; this is the positional argument that's missing when we don't include an argument for `add3()`.*"
   ]
  },
  {
   "cell_type": "markdown",
   "metadata": {
    "nbgrader": {
     "cell_type": "markdown",
     "checksum": "faff97b2a7f4ace5201df1699b9ab4b8",
     "grade": false,
     "grade_id": "anon-function",
     "locked": false,
     "schema_version": 2,
     "solution": false
    }
   },
   "source": [
    "**Anonymous Functions and Lambdas**"
   ]
  },
  {
   "cell_type": "code",
   "execution_count": 25,
   "metadata": {
    "nbgrader": {
     "cell_type": "code",
     "checksum": "db319326f7568ac22198aac2be52d31c",
     "grade": false,
     "grade_id": "add4-to-5",
     "locked": false,
     "schema_version": 2,
     "solution": false
    }
   },
   "outputs": [
    {
     "data": {
      "text/plain": [
       "9"
      ]
     },
     "execution_count": 25,
     "metadata": {},
     "output_type": "execute_result"
    }
   ],
   "source": [
    "# add4 is very similar to add3, but it's been created using a lambda expression.\n",
    "add4 = lambda x: x + 4\n",
    "add4(5)"
   ]
  },
  {
   "cell_type": "markdown",
   "metadata": {},
   "source": [
    "*Exercise 6:* Create a lambda expression that takes any string *s* as an argument and returns the string \"My favorite star(s) is/are *s*.\""
   ]
  },
  {
   "cell_type": "code",
   "execution_count": 26,
   "metadata": {},
   "outputs": [
    {
     "name": "stdout",
     "output_type": "stream",
     "text": [
      "My favorite star is you.\n"
     ]
    }
   ],
   "source": [
    "favorite_star = lambda s: print(\"My favorite star is \"+s+'.')\n",
    "#call your function below!\n",
    "favorite_star('you')"
   ]
  },
  {
   "cell_type": "markdown",
   "metadata": {
    "nbgrader": {
     "cell_type": "markdown",
     "checksum": "e55f303b10d675f20ab0057c79959a1d",
     "grade": false,
     "grade_id": "recurrsion",
     "locked": false,
     "schema_version": 2,
     "solution": false
    }
   },
   "source": [
    "**Recursion** (<a href=\"https://realpython.com/python-thinking-recursively/\">Reference</a>)"
   ]
  },
  {
   "cell_type": "code",
   "execution_count": 27,
   "metadata": {
    "nbgrader": {
     "cell_type": "code",
     "checksum": "1375f02cbe0d34d7b176de7870af2da6",
     "grade": false,
     "grade_id": "total-fib",
     "locked": false,
     "schema_version": 2,
     "solution": false
    }
   },
   "outputs": [
    {
     "data": {
      "text/plain": [
       "13"
      ]
     },
     "execution_count": 27,
     "metadata": {},
     "output_type": "execute_result"
    }
   ],
   "source": [
    "def fib(n):\n",
    "    if n <= 1:\n",
    "        return 1\n",
    "    else:\n",
    "        # Functions can call themselves recursively.\n",
    "        return fib(n-1) + fib(n-2) # If you're not sure what this line does, trying writing out the results of the first couple of loops.\n",
    "\n",
    "fib(6)"
   ]
  },
  {
   "cell_type": "markdown",
   "metadata": {
    "nbgrader": {
     "cell_type": "markdown",
     "checksum": "85d8b83f79434888f22c52650ac2da35",
     "grade": false,
     "grade_id": "begin-question1",
     "locked": false,
     "schema_version": 2,
     "solution": false
    }
   },
   "source": [
    "----\n",
    "\n",
    "**Question 1.1:** Fill in the ellipses in the function `every_third_num`, which takes in a list of integers `l` and returns a string containing every third entry (including the first entry), separated by spaces. For example:\n",
    "\n",
    "    >>> every_third_num([1,2,3,4,5])\n",
    "    '1 4'"
   ]
  },
  {
   "cell_type": "code",
   "execution_count": 28,
   "metadata": {},
   "outputs": [],
   "source": [
    "def every_third_num(l):\n",
    "    numList = l[::3] # subset the list to include every third value in l\n",
    "    numString = [str(i) for i in numList] # convert numbers to strings\n",
    "    return \" \".join(numString) # turn list into single string, with each number separated by a space\n",
    "    ### END SOLUTION"
   ]
  },
  {
   "cell_type": "code",
   "execution_count": 29,
   "metadata": {},
   "outputs": [],
   "source": [
    "assert every_third_num([1,2,3,4,5]) == '1 4'\n",
    "assert every_third_num([4, 16, 36, 64, 100, 144, 196, 256, 324, 400, 484, 576, 676, 784, 900]) == '4 64 196 400 676'"
   ]
  },
  {
   "cell_type": "markdown",
   "metadata": {},
   "source": [
    "**Question 1.2:** Write a function `ten2zero` that takes in a list of integers and returns True only if the list contains the integer 10 immediately follwed by 0.\n",
    "\n",
    "\n",
    "    >>> ten2zero([10, 2, 3, 0])\n",
    "    False\n",
    "    >>> ten2zero([2, 3, 10, 0, 5])\n",
    "    True\n",
    "    "
   ]
  },
  {
   "cell_type": "code",
   "execution_count": 30,
   "metadata": {},
   "outputs": [],
   "source": [
    "def ten2zero(nums):\n",
    "    ### BEGIN SOLUTION\n",
    "    ten = False # variable that detects if one 100 is found\n",
    "    zero_ten = False # variable that detects if a 10 followed by a zero is found\n",
    "    for i in nums:\n",
    "        if (ten == False) and (i == 10): # check for a 10\n",
    "            ten = True\n",
    "        elif (ten == True) and (i == 0): # if one 10 is found, check if it is followed by zero\n",
    "            zero_ten = True\n",
    "        else:\n",
    "            ten = False # if no 10s are found, make sure ten is set to False\n",
    "    \n",
    "    return zero_ten\n",
    "    ### END SOLUTION"
   ]
  },
  {
   "cell_type": "code",
   "execution_count": 31,
   "metadata": {},
   "outputs": [],
   "source": [
    "assert ten2zero([10, 2, 3, 0]) == False\n",
    "assert ten2zero([2, 3, 10, 0, 5]) == True\n",
    "assert ten2zero([9, 6, 7, 0, 10]) == False"
   ]
  },
  {
   "cell_type": "markdown",
   "metadata": {},
   "source": [
    "**Question 1.4:** Write a function `letter_counts` that takes in a string and creates a dictionary that records the number of times each letter appears in the string.\n",
    "\n",
    "    >>> print(letter_counts([\"Mississippi\"]))\n",
    "    {'M': 1, 'i': 4, 's': 4, 'p': 2}\n",
    "    \n",
    "The [`string.count()` function](https://www.geeksforgeeks.org/python-string-count/) will come in handy here. It might also be helpful to [review dictionaries in Python](https://docs.python.org/3/tutorial/datastructures.html#dictionaries)."
   ]
  },
  {
   "cell_type": "code",
   "execution_count": 32,
   "metadata": {},
   "outputs": [],
   "source": [
    "def letter_counts(string):\n",
    "    ### BEGIN SOLUTION\n",
    "    letter_counts_dict = {} # initialize dictionary to hold letter counts\n",
    "\n",
    "    for letter in string:\n",
    "        letter_counts_dict[letter] = string.count(letter) # create dictionary element for each letter, containing the count\n",
    "\n",
    "    return letter_counts_dict\n",
    "    ### END SOLUTION"
   ]
  },
  {
   "cell_type": "code",
   "execution_count": 33,
   "metadata": {},
   "outputs": [
    {
     "name": "stdout",
     "output_type": "stream",
     "text": [
      "{'M': 1, 'i': 4, 's': 4, 'p': 2}\n"
     ]
    }
   ],
   "source": [
    "print(letter_counts('Mississippi'))"
   ]
  },
  {
   "cell_type": "markdown",
   "metadata": {
    "nbgrader": {
     "cell_type": "markdown",
     "checksum": "879fbab7b9199d887c56aa42349a5b27",
     "grade": false,
     "grade_id": "numpy-and-tables",
     "locked": false,
     "schema_version": 2,
     "solution": false
    }
   },
   "source": [
    "---\n",
    "\n",
    "## Section 2: NumPy <a id='NumPy'></a>\n",
    "\n",
    "The `NumPy` library lets us do fast, simple computing with numbers in Python. \n",
    "\n",
    "If the following section is a little difficult, we've provided some resources for review!\n",
    "\n",
    "* [DS100 Numpy Review](http://ds100.org/fa17/assets/notebooks/numpy/Numpy_Review.html)\n",
    "* [Condensed Numpy Review](http://cs231n.github.io/python-numpy-tutorial/#numpy)\n",
    "* [The Official Numpy Tutorial](https://numpy.org/doc/stable/user/quickstart.html)\n",
    "\n",
    "<br>\n",
    "\n",
    "**Jupyter pro-tip**: Pull up the docs for any function in Jupyter by running a cell with\n",
    "the function name and a `?` at the end:"
   ]
  },
  {
   "cell_type": "code",
   "execution_count": 34,
   "metadata": {
    "nbgrader": {
     "cell_type": "code",
     "checksum": "b86d7aec77704a4bf2119edcec544f55",
     "grade": false,
     "grade_id": "np-arange-huh",
     "locked": false,
     "schema_version": 2,
     "solution": false
    }
   },
   "outputs": [],
   "source": [
    "np.arange?"
   ]
  },
  {
   "cell_type": "markdown",
   "metadata": {
    "nbgrader": {
     "cell_type": "markdown",
     "checksum": "0ecfa74779f4801e846b87a57e256b7a",
     "grade": false,
     "grade_id": "jupyter-pro-tip-two",
     "locked": false,
     "schema_version": 2,
     "solution": false
    }
   },
   "source": [
    "**Another Jupyter pro-tip**: Pull up the docs for any function in Jupyter by typing the function\n",
    "name, then `<Shift>-<Tab>` on your keyboard. Super convenient when you forget the order\n",
    "of the arguments to a function. You can press `<Tab>` multiple tabs to expand the docs. Pressing `<Tab>` does an autocomplete, but doesn’t pull up docs.\n",
    "\n",
    "\n",
    "Try it on the function below:"
   ]
  },
  {
   "cell_type": "code",
   "execution_count": 35,
   "metadata": {},
   "outputs": [
    {
     "data": {
      "text/plain": [
       "<function numpy.linspace(start, stop, num=50, endpoint=True, retstep=False, dtype=None, axis=0)>"
      ]
     },
     "execution_count": 35,
     "metadata": {},
     "output_type": "execute_result"
    }
   ],
   "source": [
    "np.linspace # what parameters will this function accept? What type do they need to be?"
   ]
  },
  {
   "cell_type": "markdown",
   "metadata": {
    "nbgrader": {
     "cell_type": "markdown",
     "checksum": "7ee05d8e676fb24e90a4f527f736386e",
     "grade": false,
     "grade_id": "instructions-decypher",
     "locked": false,
     "schema_version": 2,
     "solution": false
    }
   },
   "source": [
    "You can use the tips above to help you deciper the following code."
   ]
  },
  {
   "cell_type": "code",
   "execution_count": 36,
   "metadata": {
    "nbgrader": {
     "cell_type": "code",
     "checksum": "e4ce1c9dc01fa4b30d2418b1c4e92b16",
     "grade": false,
     "grade_id": "weird-code",
     "locked": false,
     "schema_version": 2,
     "solution": false
    }
   },
   "outputs": [
    {
     "data": {
      "text/plain": [
       "0.72675"
      ]
     },
     "execution_count": 36,
     "metadata": {},
     "output_type": "execute_result"
    }
   ],
   "source": [
    "# Let's take a 20-sided die...\n",
    "NUM_FACES = 20\n",
    "\n",
    "# ...and roll it 4 times\n",
    "rolls = 4\n",
    "\n",
    "# What's the probability that all 4 rolls are different? It's:\n",
    "# 20/20 * 19/20 * 18/20 * 17/20\n",
    "prob_diff = np.prod((NUM_FACES - np.arange(rolls))\n",
    "                    / NUM_FACES)\n",
    "prob_diff"
   ]
  },
  {
   "cell_type": "code",
   "execution_count": 37,
   "metadata": {
    "nbgrader": {
     "cell_type": "code",
     "checksum": "60f27af129aeac5799ef3b4581171e96",
     "grade": false,
     "grade_id": "more-weird-code",
     "locked": false,
     "schema_version": 2,
     "solution": false
    }
   },
   "outputs": [
    {
     "data": {
      "text/plain": [
       "array([1.     , 0.95   , 0.855  , 0.72675, 0.5814 ])"
      ]
     },
     "execution_count": 37,
     "metadata": {},
     "output_type": "execute_result"
    }
   ],
   "source": [
    "# Let's compute that probability for 1 roll, 2 rolls, ..., 20 rolls.\n",
    "# The array ys will contain:\n",
    "# \n",
    "# 20/20\n",
    "# 20/20 * 19/20\n",
    "# 20/20 * 18/20\n",
    "# ...\n",
    "# 20/20 * 19/20 * ... * 1/20\n",
    "\n",
    "xs = np.arange(20)\n",
    "# np.cumprod returns the cumulative product of elements along a given axis.\n",
    "# We are computing the probability that all rolls are different for 1 - 20 rolls.\n",
    "ys = np.cumprod((NUM_FACES - xs) / NUM_FACES)\n",
    "# Only displaying 5 rolls.\n",
    "ys[:5]"
   ]
  },
  {
   "cell_type": "code",
   "execution_count": 38,
   "metadata": {
    "nbgrader": {
     "cell_type": "code",
     "checksum": "90dcf622a66997f4d7cfea7ea7db624e",
     "grade": false,
     "grade_id": "plotting-code",
     "locked": false,
     "schema_version": 2,
     "solution": false
    }
   },
   "outputs": [
    {
     "data": {
      "text/plain": [
       "Text(0, 0.5, 'P(all different)')"
      ]
     },
     "execution_count": 38,
     "metadata": {},
     "output_type": "execute_result"
    },
    {
     "data": {
      "image/png": "[encoded data removed]",
      "text/plain": [
       "<Figure size 432x288 with 1 Axes>"
      ]
     },
     "metadata": {
      "needs_background": "light"
     },
     "output_type": "display_data"
    }
   ],
   "source": [
    "plt.plot(xs, ys, 'o-')\n",
    "plt.xlabel(\"Num Rolls\")\n",
    "plt.ylabel('P(all different)')"
   ]
  },
  {
   "cell_type": "code",
   "execution_count": 39,
   "metadata": {
    "nbgrader": {
     "cell_type": "code",
     "checksum": "2724184a772438b66203efc4c3f23fd4",
     "grade": false,
     "grade_id": "total-mystery",
     "locked": false,
     "schema_version": 2,
     "solution": false
    }
   },
   "outputs": [
    {
     "data": {
      "text/plain": [
       "array([1.00000000e+00, 9.75309912e-01, 9.04837418e-01, 7.98516219e-01,\n",
       "       6.70320046e-01, 5.35261429e-01, 4.06569660e-01, 2.93757700e-01,\n",
       "       2.01896518e-01, 1.31993843e-01, 8.20849986e-02, 4.85578213e-02,\n",
       "       2.73237224e-02, 1.46253347e-02, 7.44658307e-03, 3.60656314e-03,\n",
       "       1.66155727e-03, 7.28152539e-04, 3.03539138e-04, 1.20362805e-04])"
      ]
     },
     "execution_count": 39,
     "metadata": {},
     "output_type": "execute_result"
    }
   ],
   "source": [
    "# Mysterious...\n",
    "mystery = np.exp(-xs ** 2 / (2 * NUM_FACES))\n",
    "mystery"
   ]
  },
  {
   "cell_type": "code",
   "execution_count": 40,
   "metadata": {
    "nbgrader": {
     "cell_type": "code",
     "checksum": "deffbe976b86e194fe01594082c24eaa",
     "grade": false,
     "grade_id": "another-plot",
     "locked": false,
     "schema_version": 2,
     "solution": false
    }
   },
   "outputs": [
    {
     "data": {
      "text/plain": [
       "<matplotlib.legend.Legend at 0x2ea62cd9278>"
      ]
     },
     "execution_count": 40,
     "metadata": {},
     "output_type": "execute_result"
    },
    {
     "data": {
      "image/png": "[encoded data removed]",
      "text/plain": [
       "<Figure size 432x288 with 1 Axes>"
      ]
     },
     "metadata": {
      "needs_background": "light"
     },
     "output_type": "display_data"
    }
   ],
   "source": [
    "# If you're curious, this is the exponential approximation for our probability:\n",
    "# https://textbook.prob140.org/ch1/Exponential_Approximation.html\n",
    "plt.plot(xs, ys, 'o-', label=\"All Different\")\n",
    "plt.plot(xs, mystery, 'o-', label=\"Mystery\")\n",
    "plt.xlabel(\"Num Rolls\")\n",
    "plt.ylabel('P(all different)')\n",
    "plt.legend()"
   ]
  },
  {
   "cell_type": "markdown",
   "metadata": {},
   "source": [
    "----\n",
    "\n",
    "In this section, we will use numpy to answer some questions about the California Independent System Operator (CAISO) Daily Renewables Watch. This data records the hourly production of various renewable resources as well as a hourly breakdown of total production of resource type, both in megawatts (MW). For an idea of how the dataset is formatted, click [here](http://content.caiso.com/green/renewrpt/20180617_DailyRenewablesWatch.txt). \n",
    "\n",
    "**Question 2.1:** Use numpy operations to output an array containing the hourly values of solar photovoltaic and solar thermal production. Examine the result. What odd pattern appeared in solar production that day? Can you explain it?"
   ]
  },
  {
   "cell_type": "code",
   "execution_count": 41,
   "metadata": {},
   "outputs": [
    {
     "data": {
      "text/plain": [
       "array([[0, 0],\n",
       "       [0, 0],\n",
       "       [0, 0],\n",
       "       [0, 0],\n",
       "       [0, 0],\n",
       "       [0, 0],\n",
       "       [174, 0],\n",
       "       [2376, 0],\n",
       "       [5484, 86],\n",
       "       [5312, 141],\n",
       "       [3503, 110],\n",
       "       [6329, 201],\n",
       "       [8700, 472],\n",
       "       [8857, 527],\n",
       "       [8732, 598],\n",
       "       [7983, 395],\n",
       "       [7020, 262],\n",
       "       [5329, 228],\n",
       "       [2193, 119],\n",
       "       [114, 0],\n",
       "       [0, 0],\n",
       "       [0, 0],\n",
       "       [0, 0],\n",
       "       [0, 0]], dtype=object)"
      ]
     },
     "execution_count": 41,
     "metadata": {},
     "output_type": "execute_result"
    }
   ],
   "source": [
    "# The following line loads the data for this question.  Note that it uses Pandas -- we'll learn more about that next week!  But the output is a numpy array.  \n",
    "data1 = pd.read_csv(\"data/q2_1.csv\").values \n",
    "#BEGIN SOLUTION\n",
    "# from the CAISO link and from opening the csv, we know that the last 2 columns are \n",
    "# solar PV and solar thermal - so we can output just those 2 columns\n",
    "data1[:,[-2,-1]] # this is one way of writing this code - selecting the last 2 columns\n",
    "data1[:,[7,8]] # we can also specify that we want columns 7 and 8\n",
    "\n",
    "#END SOLUTION----"
   ]
  },
  {
   "cell_type": "markdown",
   "metadata": {},
   "source": [
    "*Answer: The odd pattern that appears is that there's a dip in solar production from about 10 am - 1 pm. This is because this data is from the August 2017 solar eclipse. Normally, we would expect increasing solar production until the mid-afternoon peak.*"
   ]
  },
  {
   "cell_type": "markdown",
   "metadata": {},
   "source": [
    "**Question 2.2:** Use numpy operations to answer the following question. How much more solar PV than wind electricity was generated in April 2017? Note, each entry in the array represents energy produced for a given *hour*."
   ]
  },
  {
   "cell_type": "code",
   "execution_count": 42,
   "metadata": {},
   "outputs": [
    {
     "data": {
      "text/plain": [
       "918305"
      ]
     },
     "execution_count": 42,
     "metadata": {},
     "output_type": "execute_result"
    }
   ],
   "source": [
    "data2 = pd.read_csv(\"data/q2_2.csv\").values\n",
    "# ### BEGIN SOLUTION\n",
    "solar_apr = np.sum(data2[:,-2])\n",
    "wind_apr = np.sum(data2[:,6])\n",
    "solar_apr - wind_apr\n",
    "# ### END SOLUTION"
   ]
  },
  {
   "cell_type": "markdown",
   "metadata": {},
   "source": [
    "**Question 2.3:** What percentage of the total resource count did geothermal represent on July 4th, Independence Day in California?"
   ]
  },
  {
   "cell_type": "code",
   "execution_count": 43,
   "metadata": {},
   "outputs": [
    {
     "data": {
      "text/plain": [
       "12.338300968437954"
      ]
     },
     "execution_count": 43,
     "metadata": {},
     "output_type": "execute_result"
    }
   ],
   "source": [
    "data3 = pd.read_csv(\"data/q2_3.csv\").values\n",
    "data3\n",
    "### BEGIN SOLUTION\n",
    "np.sum(data3[:,2]) / np.sum(data3[:,2:9]) * 100\n",
    "### END SOLUTION"
   ]
  },
  {
   "cell_type": "markdown",
   "metadata": {
    "nbgrader": {
     "cell_type": "markdown",
     "checksum": "e252d3114df4dde790eca749770cb5f2",
     "grade": false,
     "grade_id": "mv-calc",
     "locked": false,
     "schema_version": 2,
     "solution": false
    }
   },
   "source": [
    "----\n",
    "\n",
    "## Section 3: Multivariable Calculus <a id='MultiCalc'></a>\n",
    "\n",
    "The following section will ask you to recall your knowledge of multivariable calculus. Although the class is not a hard prerequisite, we will use fundamental concepts, so the following problems should familiarize you to these topics if you haven't taken it yet!\n",
    "\n",
    "(Note that the math is written in a simplified version of LaTeX.  Writing out your answer involves putting exponents on other terms.  See how it works in the markdown source for this expression: $x^{2y}$\n",
    "\n",
    "----"
   ]
  },
  {
   "cell_type": "markdown",
   "metadata": {
    "nbgrader": {
     "cell_type": "markdown",
     "checksum": "578458b94641a0941893232cce4e3d14",
     "grade": false,
     "grade_id": "question3",
     "locked": false,
     "schema_version": 2,
     "solution": false
    },
    "tags": [
     "written"
    ]
   },
   "source": [
    "**Question 3.1:** Simplify the following expression into the form \n",
    "$$ \\ln(a) + f(x) $$\n",
    "where $a$ is a constant and $f(x)$ is a polynomial function of $x$ (i.e. no natural logarithm):\n",
    "\n",
    "$$\n",
    "\\large \\ln \\left( 7 e^{0.33  x} e^{\\frac{-1}{\\sqrt{x}}} \\right)\n",
    "$$"
   ]
  },
  {
   "cell_type": "markdown",
   "metadata": {
    "nbgrader": {
     "cell_type": "markdown",
     "checksum": "17e548c59d4dd2bcaa8d95a7030cafa7",
     "grade": false,
     "grade_id": "question3a",
     "locked": false,
     "schema_version": 2,
     "solution": false
    },
    "tags": [
     "written",
     "student"
    ]
   },
   "source": [
    "$$\n",
    "\\ln \\left( 7 e^{0.33  x} e^{\\frac{-1}{\\sqrt{x}}} \\right) = \n",
    "\\ln \\left( 7 e^{\\frac{0.33 x^{\\frac{3}{2}}-1}{\\sqrt{x}}} \\right) = \n",
    "\\ln(7) + 0.33 x - \\frac{1} {\\sqrt{x}}\n",
    "$$\n"
   ]
  },
  {
   "cell_type": "markdown",
   "metadata": {
    "nbgrader": {
     "cell_type": "markdown",
     "checksum": "3ab703085b4fa129f7e4fb80d7cf127d",
     "grade": false,
     "grade_id": "question3b",
     "locked": false,
     "schema_version": 2,
     "solution": false
    },
    "tags": [
     "written"
    ]
   },
   "source": [
    "**Question 3.2**: Suppose we have the following scalar-valued function on $x$ and $y$:\n",
    "\n",
    "$$ \\Large f(x, y) = x^3 - 2xy + 0.5y^2 + e^{-5y} + \\ln(x^2) $$\n",
    "\n",
    "Compute the partial derivative with respect to $x$."
   ]
  },
  {
   "cell_type": "markdown",
   "metadata": {
    "nbgrader": {
     "cell_type": "markdown",
     "checksum": "4f2ef9742fc401480241a6e97a0a27b5",
     "grade": false,
     "grade_id": "question3beq",
     "locked": false,
     "schema_version": 2,
     "solution": false
    },
    "tags": [
     "student",
     "written"
    ]
   },
   "source": [
    "$$ \\frac{\\partial}{\\partial x} f(x,y) = 3x^2 - 2y + \\frac{2}{x} $$"
   ]
  },
  {
   "cell_type": "markdown",
   "metadata": {
    "nbgrader": {
     "cell_type": "markdown",
     "checksum": "e34c1b66b696c223a5937ac9df854aa3",
     "grade": false,
     "grade_id": "question3c",
     "locked": false,
     "schema_version": 2,
     "solution": false
    },
    "tags": [
     "written"
    ]
   },
   "source": [
    "**Question 3.3:** Now compute the partial derivative of $f(x,y)$ with respect to $y$:"
   ]
  },
  {
   "cell_type": "markdown",
   "metadata": {
    "nbgrader": {
     "cell_type": "markdown",
     "checksum": "2ced6a42e57611dd9af1d13858942e14",
     "grade": false,
     "grade_id": "question3ceq",
     "locked": false,
     "schema_version": 2,
     "solution": false
    },
    "tags": [
     "student",
     "written"
    ]
   },
   "source": [
    "$$ \\frac{\\partial}{\\partial y} f(x,y) = -2x + y - 5e^{-5y} $$"
   ]
  },
  {
   "cell_type": "markdown",
   "metadata": {
    "nbgrader": {
     "cell_type": "markdown",
     "checksum": "308dbeb2f4547a9faa27439c6113fca7",
     "grade": false,
     "grade_id": "question4a",
     "locked": false,
     "schema_version": 2,
     "solution": false
    }
   },
   "source": [
    "## Section 4: Linear Algebra <a id='LinAlg'></a>\n",
    "\n",
    "We'll continue the math review with a short section on linear algebra. Luckily, we have NumPy at our disposal to perform matrix operations."
   ]
  },
  {
   "cell_type": "markdown",
   "metadata": {
    "nbgrader": {
     "cell_type": "markdown",
     "checksum": "2d34058989a2c75675476047cff6168c",
     "grade": false,
     "grade_id": "question4",
     "locked": false,
     "schema_version": 2,
     "solution": false
    }
   },
   "source": [
    "In this question, we'll ask you to use your linear algebra knowledge to fill in NumPy matrices. To conduct matrix multiplication in NumPy, you should write code like the following:"
   ]
  },
  {
   "cell_type": "code",
   "execution_count": 44,
   "metadata": {
    "nbgrader": {
     "cell_type": "code",
     "checksum": "d38405314a199c0fe8f75ce2b27aa2c4",
     "grade": false,
     "grade_id": "matA-times-matB",
     "locked": false,
     "schema_version": 2,
     "solution": false
    },
    "scrolled": true
   },
   "outputs": [
    {
     "data": {
      "text/plain": [
       "array([[ 76,  82],\n",
       "       [184, 199]])"
      ]
     },
     "execution_count": 44,
     "metadata": {},
     "output_type": "execute_result"
    }
   ],
   "source": [
    "# A matrix in NumPy is simply a 2-dimensional NumPy array\n",
    "matA = np.array([\n",
    "    [1, 2, 3],\n",
    "    [4, 5, 6],\n",
    "])\n",
    "\n",
    "matB = np.array([\n",
    "    [10, 11],\n",
    "    [12, 13],\n",
    "    [14, 15],\n",
    "])\n",
    "\n",
    "# The notation B @ v means: compute the matrix multiplication Bv\n",
    "matA @ matB"
   ]
  },
  {
   "cell_type": "markdown",
   "metadata": {
    "nbgrader": {
     "cell_type": "markdown",
     "checksum": "1c4bc59ec712d4229ae0eb1bef86e5f5",
     "grade": false,
     "grade_id": "mat-vec-handy",
     "locked": false,
     "schema_version": 2,
     "solution": false
    }
   },
   "source": [
    "You can also use the same syntax to do matrix-vector multiplication or vector dot products. Handy!"
   ]
  },
  {
   "cell_type": "code",
   "execution_count": 45,
   "metadata": {
    "nbgrader": {
     "cell_type": "code",
     "checksum": "6e01716f847933c47bbdd4dd557afa0c",
     "grade": false,
     "grade_id": "mat-vec-code",
     "locked": false,
     "schema_version": 2,
     "solution": false
    }
   },
   "outputs": [
    {
     "name": "stdout",
     "output_type": "stream",
     "text": [
      "[ 76 184]\n",
      "760\n"
     ]
    }
   ],
   "source": [
    "matA = np.array([\n",
    "    [1, 2, 3],\n",
    "    [4, 5, 6],\n",
    "])\n",
    "\n",
    "# A vector in NumPy is simply a 1-dimensional NumPy array\n",
    "some_vec = np.array([ 10, 12, 14, ])\n",
    "\n",
    "another_vec = np.array([ 10, 20, 30 ])\n",
    "\n",
    "print(matA @ some_vec)\n",
    "print(some_vec @ another_vec)"
   ]
  },
  {
   "cell_type": "markdown",
   "metadata": {},
   "source": [
    "Brienne, Jaime, and Robb are shopping for fruit at Berkeley Bowl. Berkeley Bowl, true to its name, only sells fruit bowls. A fruit bowl contains some fruit and the price of a fruit bowl is the total price of all of its individual fruit.\n",
    "\n",
    "Berkeley Bowl has apples for \\\\$1.00, oranges for \\\\$2.50, and cantaloupes for \\\\$6.00 (expensive!). These prices can be written in a vector:\n",
    "\n",
    "$$\n",
    "\\vec{v} = \\begin{bmatrix}\n",
    "     1 \\\\\n",
    "     2.5 \\\\\n",
    "     6 \\\\\n",
    "\\end{bmatrix}\n",
    "$$\n",
    "\n",
    "Berkeley Bowl sells the following fruit bowls:\n",
    "\n",
    "1. 3 of each fruit\n",
    "2. 4 oranges and 6 apples\n",
    "3. 4 cantaloupes\n",
    "\n",
    "\n",
    "**Question 4.1:** Create a 2-dimensional numpy array encoding the matrix $B$ such that the matrix-vector multiplication\n",
    "\n",
    "$$\n",
    "B\\vec{v}\n",
    "$$\n",
    "\n",
    "evaluates to a length 3 column vector containing the price of each fruit bowl. The first entry of the result should be the cost of fruit bowl #1, the second entry the cost of fruit bowl #2, etc."
   ]
  },
  {
   "cell_type": "code",
   "execution_count": 47,
   "metadata": {},
   "outputs": [
    {
     "data": {
      "text/plain": [
       "array([28.5, 16. , 24. ])"
      ]
     },
     "execution_count": 47,
     "metadata": {},
     "output_type": "execute_result"
    }
   ],
   "source": [
    "import numpy as np\n",
    "v = np.array([1,2.5,6])\n",
    "\n",
    "# Fill in B\n",
    "# B = ...\n",
    "\n",
    "### BEGIN SOLUTION\n",
    "B = np.array([\n",
    "    [3, 3, 3], # bowl 1\n",
    "    [6, 4, 0], # bowl 2\n",
    "    [0, 0, 4], # bowl 3\n",
    "])\n",
    "### END SOLUTION\n",
    "\n",
    "# The notation B @ v means: compute the matrix multiplication Bv\n",
    "B @ v"
   ]
  },
  {
   "cell_type": "markdown",
   "metadata": {
    "nbgrader": {
     "cell_type": "markdown",
     "checksum": "33b462326181b0cdac402fca0925e323",
     "grade": false,
     "grade_id": "question4b",
     "locked": false,
     "schema_version": 2,
     "solution": false
    }
   },
   "source": [
    "**Question 4.2:** Brienne, Jaime, and Robb make the following purchases:\n",
    "\n",
    "- Brienne buys 1 fruit bowl #1 and 3 fruit bowl #2s.\n",
    "- Robb buys 2 of each fruit bowl.\n",
    "- Jaime buys 10 fruit bowl #3s.\n",
    "\n",
    "\n",
    "Create a matrix $A$ such that the matrix expression\n",
    "\n",
    "$$\n",
    "AB\\vec{v}\n",
    "$$\n",
    "\n",
    "evaluates to a length 3 column vector containing how much each of them spent. The first entry of the result should be the total amount spent by Brienne, the second entry the amount sent by Rob, and the third entry the amount spent by Jaime."
   ]
  },
  {
   "cell_type": "code",
   "execution_count": 48,
   "metadata": {},
   "outputs": [
    {
     "data": {
      "text/plain": [
       "array([ 76.5, 137. , 240. ])"
      ]
     },
     "execution_count": 48,
     "metadata": {},
     "output_type": "execute_result"
    }
   ],
   "source": [
    "A = np.array([\n",
    "    [1, 3, 0], # Brienne\n",
    "    [2, 2, 2], # Robb\n",
    "    [0, 0, 10], # Jaime\n",
    "]) \n",
    "\n",
    "A @ B @ v "
   ]
  },
  {
   "cell_type": "markdown",
   "metadata": {
    "nbgrader": {
     "cell_type": "markdown",
     "checksum": "4feabb7266f67451770b00863632de8f",
     "grade": false,
     "grade_id": "question4c",
     "locked": false,
     "schema_version": 2,
     "solution": false
    },
    "tags": [
     "written"
    ]
   },
   "source": [
    "**Question 4.3:** Who spent the most money?"
   ]
  },
  {
   "cell_type": "markdown",
   "metadata": {},
   "source": [
    "Jaime"
   ]
  },
  {
   "cell_type": "markdown",
   "metadata": {
    "nbgrader": {
     "cell_type": "markdown",
     "checksum": "06f378e57e0aab496a1fab11e6606242",
     "grade": false,
     "grade_id": "cell-8f8d7cbfb6493af0",
     "locked": false,
     "schema_version": 2,
     "solution": false
    }
   },
   "source": [
    "**Question 4.4:** Let's suppose Berkeley Bowl changes their fruit prices, but you don't know what they changed their prices to. Brienne, Robb, and Jaime buy the same quantity of fruit baskets and the number of fruit in each basket is the same, but now they each spent these amounts, respectively:\n",
    "\n",
    "$$\n",
    "\\vec{x} = \\begin{bmatrix}\n",
    "    150 \\\\\n",
    "    180 \\\\\n",
    "    160 \\\\\n",
    "\\end{bmatrix}\n",
    "$$\n",
    "\n",
    "Use `np.linalg.inv` to compute the new prices for the individual fruits."
   ]
  },
  {
   "cell_type": "code",
   "execution_count": 49,
   "metadata": {},
   "outputs": [
    {
     "data": {
      "text/plain": [
       "array([3., 5., 4.])"
      ]
     },
     "execution_count": 49,
     "metadata": {},
     "output_type": "execute_result"
    }
   ],
   "source": [
    "new_v = np.linalg.inv(A @ B) @ np.array([150,180,160])\n",
    "new_v"
   ]
  },
  {
   "cell_type": "markdown",
   "metadata": {},
   "source": [
    "----\n",
    "\n",
    "## Submission\n",
    "\n",
    "Congrats, you're done with homework 1!\n",
    "\n",
    "Before you submit, click **Kernel** --> **Restart & Clear Output**. Then, click **Cell** --> **Run All**. Then, go to the toolbar and click **File** -> **Download as** -> **.html** and submit the file through bCourses.\n",
    "\n",
    "----\n",
    "\n",
    "### Bibliography\n",
    "\n",
    "+ Data 100 - HW 1: Introduction"
   ]
  }
 ],
 "metadata": {
  "kernelspec": {
   "display_name": "Python 3",
   "language": "python",
   "name": "python3"
  },
  "language_info": {
   "codemirror_mode": {
    "name": "ipython",
    "version": 3
   },
   "file_extension": ".py",
   "mimetype": "text/x-python",
   "name": "python",
   "nbconvert_exporter": "python",
   "pygments_lexer": "ipython3",
   "version": "3.7.3"
  },
  "toc": {
   "colors": {
    "hover_highlight": "#DAA520",
    "running_highlight": "#FF0000",
    "selected_highlight": "#FFD700"
   },
   "moveMenuLeft": true,
   "nav_menu": {
    "height": "512px",
    "width": "252px"
   },
   "navigate_menu": true,
   "number_sections": true,
   "sideBar": true,
   "threshold": 4,
   "toc_cell": true,
   "toc_section_display": "none",
   "toc_window_display": true
  }
 },
 "nbformat": 4,
 "nbformat_minor": 2
}
