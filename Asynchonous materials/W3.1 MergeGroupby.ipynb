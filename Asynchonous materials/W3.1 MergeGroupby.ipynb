{
 "cells": [
  {
   "cell_type": "markdown",
   "metadata": {},
   "source": [
    "# Merge and Groupby\n",
    "Duncan Callaway\n",
    "\n",
    "This notebook gives an introduction to using Pandas' `merge` and `groupby` methods.  "
   ]
  },
  {
   "cell_type": "code",
   "execution_count": 1,
   "metadata": {},
   "outputs": [],
   "source": [
    "import pandas as pd\n",
    "import numpy as np"
   ]
  },
  {
   "cell_type": "markdown",
   "metadata": {},
   "source": [
    "## Row and column labels\n",
    "The columns are identified with a list of values.  Let's look at the fruit data set again:"
   ]
  },
  {
   "cell_type": "code",
   "execution_count": 2,
   "metadata": {},
   "outputs": [
    {
     "data": {
      "text/html": [
       "<div>\n",
       "<style scoped>\n",
       "    .dataframe tbody tr th:only-of-type {\n",
       "        vertical-align: middle;\n",
       "    }\n",
       "\n",
       "    .dataframe tbody tr th {\n",
       "        vertical-align: top;\n",
       "    }\n",
       "\n",
       "    .dataframe thead th {\n",
       "        text-align: right;\n",
       "    }\n",
       "</style>\n",
       "<table border=\"1\" class=\"dataframe\">\n",
       "  <thead>\n",
       "    <tr style=\"text-align: right;\">\n",
       "      <th></th>\n",
       "      <th>fruit</th>\n",
       "      <th>color</th>\n",
       "      <th>weight</th>\n",
       "    </tr>\n",
       "  </thead>\n",
       "  <tbody>\n",
       "    <tr>\n",
       "      <td>0</td>\n",
       "      <td>apple</td>\n",
       "      <td>red</td>\n",
       "      <td>120</td>\n",
       "    </tr>\n",
       "    <tr>\n",
       "      <td>1</td>\n",
       "      <td>banana</td>\n",
       "      <td>yellow</td>\n",
       "      <td>150</td>\n",
       "    </tr>\n",
       "    <tr>\n",
       "      <td>2</td>\n",
       "      <td>orange</td>\n",
       "      <td>orange</td>\n",
       "      <td>250</td>\n",
       "    </tr>\n",
       "    <tr>\n",
       "      <td>3</td>\n",
       "      <td>raspberry</td>\n",
       "      <td>pink</td>\n",
       "      <td>15</td>\n",
       "    </tr>\n",
       "  </tbody>\n",
       "</table>\n",
       "</div>"
      ],
      "text/plain": [
       "       fruit   color  weight\n",
       "0      apple     red     120\n",
       "1     banana  yellow     150\n",
       "2     orange  orange     250\n",
       "3  raspberry    pink      15"
      ]
     },
     "execution_count": 2,
     "metadata": {},
     "output_type": "execute_result"
    }
   ],
   "source": [
    "fruit_info_df = pd.read_csv('fruit_info.csv', index_col= False)\n",
    "fruit_info_df"
   ]
  },
  {
   "cell_type": "code",
   "execution_count": 3,
   "metadata": {},
   "outputs": [
    {
     "data": {
      "text/plain": [
       "Index(['fruit', 'color', 'weight'], dtype='object')"
      ]
     },
     "execution_count": 3,
     "metadata": {},
     "output_type": "execute_result"
    }
   ],
   "source": [
    "fruit_info_df.columns"
   ]
  },
  {
   "cell_type": "markdown",
   "metadata": {},
   "source": [
    "The rows are similarly labeled:"
   ]
  },
  {
   "cell_type": "code",
   "execution_count": 4,
   "metadata": {},
   "outputs": [
    {
     "data": {
      "text/plain": [
       "RangeIndex(start=0, stop=4, step=1)"
      ]
     },
     "execution_count": 4,
     "metadata": {},
     "output_type": "execute_result"
    }
   ],
   "source": [
    "fruit_info_df.index"
   ]
  },
  {
   "cell_type": "markdown",
   "metadata": {},
   "source": [
    "## Merging\n",
    "Lets make another data frame and tack it on to the first"
   ]
  },
  {
   "cell_type": "code",
   "execution_count": 5,
   "metadata": {},
   "outputs": [
    {
     "data": {
      "text/html": [
       "<div>\n",
       "<style scoped>\n",
       "    .dataframe tbody tr th:only-of-type {\n",
       "        vertical-align: middle;\n",
       "    }\n",
       "\n",
       "    .dataframe tbody tr th {\n",
       "        vertical-align: top;\n",
       "    }\n",
       "\n",
       "    .dataframe thead th {\n",
       "        text-align: right;\n",
       "    }\n",
       "</style>\n",
       "<table border=\"1\" class=\"dataframe\">\n",
       "  <thead>\n",
       "    <tr style=\"text-align: right;\">\n",
       "      <th></th>\n",
       "      <th>price</th>\n",
       "      <th>frut</th>\n",
       "    </tr>\n",
       "  </thead>\n",
       "  <tbody>\n",
       "    <tr>\n",
       "      <td>0</td>\n",
       "      <td>0.50</td>\n",
       "      <td>apple</td>\n",
       "    </tr>\n",
       "    <tr>\n",
       "      <td>1</td>\n",
       "      <td>0.65</td>\n",
       "      <td>banana</td>\n",
       "    </tr>\n",
       "    <tr>\n",
       "      <td>2</td>\n",
       "      <td>1.00</td>\n",
       "      <td>orange</td>\n",
       "    </tr>\n",
       "    <tr>\n",
       "      <td>3</td>\n",
       "      <td>0.15</td>\n",
       "      <td>rasberry</td>\n",
       "    </tr>\n",
       "  </tbody>\n",
       "</table>\n",
       "</div>"
      ],
      "text/plain": [
       "   price      frut\n",
       "0   0.50     apple\n",
       "1   0.65    banana\n",
       "2   1.00    orange\n",
       "3   0.15  rasberry"
      ]
     },
     "execution_count": 5,
     "metadata": {},
     "output_type": "execute_result"
    }
   ],
   "source": [
    "price_df = pd.DataFrame({'price':[0.5, 0.65, 1, 0.15],\n",
    "                        'frut':['apple', 'banana', 'orange', 'rasberry']})\n",
    "price_df"
   ]
  },
  {
   "cell_type": "code",
   "execution_count": 6,
   "metadata": {},
   "outputs": [
    {
     "data": {
      "text/html": [
       "<div>\n",
       "<style scoped>\n",
       "    .dataframe tbody tr th:only-of-type {\n",
       "        vertical-align: middle;\n",
       "    }\n",
       "\n",
       "    .dataframe tbody tr th {\n",
       "        vertical-align: top;\n",
       "    }\n",
       "\n",
       "    .dataframe thead th {\n",
       "        text-align: right;\n",
       "    }\n",
       "</style>\n",
       "<table border=\"1\" class=\"dataframe\">\n",
       "  <thead>\n",
       "    <tr style=\"text-align: right;\">\n",
       "      <th></th>\n",
       "      <th>fruit</th>\n",
       "      <th>color</th>\n",
       "      <th>weight</th>\n",
       "    </tr>\n",
       "  </thead>\n",
       "  <tbody>\n",
       "    <tr>\n",
       "      <td>0</td>\n",
       "      <td>apple</td>\n",
       "      <td>red</td>\n",
       "      <td>120</td>\n",
       "    </tr>\n",
       "    <tr>\n",
       "      <td>1</td>\n",
       "      <td>banana</td>\n",
       "      <td>yellow</td>\n",
       "      <td>150</td>\n",
       "    </tr>\n",
       "    <tr>\n",
       "      <td>2</td>\n",
       "      <td>orange</td>\n",
       "      <td>orange</td>\n",
       "      <td>250</td>\n",
       "    </tr>\n",
       "    <tr>\n",
       "      <td>3</td>\n",
       "      <td>raspberry</td>\n",
       "      <td>pink</td>\n",
       "      <td>15</td>\n",
       "    </tr>\n",
       "  </tbody>\n",
       "</table>\n",
       "</div>"
      ],
      "text/plain": [
       "       fruit   color  weight\n",
       "0      apple     red     120\n",
       "1     banana  yellow     150\n",
       "2     orange  orange     250\n",
       "3  raspberry    pink      15"
      ]
     },
     "execution_count": 6,
     "metadata": {},
     "output_type": "execute_result"
    }
   ],
   "source": [
    "fruit_info_df"
   ]
  },
  {
   "cell_type": "markdown",
   "metadata": {},
   "source": [
    "Now let's blindly merge:"
   ]
  },
  {
   "cell_type": "code",
   "execution_count": 7,
   "metadata": {
    "scrolled": true
   },
   "outputs": [
    {
     "ename": "MergeError",
     "evalue": "No common columns to perform merge on. Merge options: left_on=None, right_on=None, left_index=False, right_index=False",
     "output_type": "error",
     "traceback": [
      "\u001b[0;31m---------------------------------------------------------------------------\u001b[0m",
      "\u001b[0;31mMergeError\u001b[0m                                Traceback (most recent call last)",
      "\u001b[0;32m<ipython-input-7-876af4136e68>\u001b[0m in \u001b[0;36m<module>\u001b[0;34m\u001b[0m\n\u001b[0;32m----> 1\u001b[0;31m \u001b[0mpd\u001b[0m\u001b[0;34m.\u001b[0m\u001b[0mmerge\u001b[0m\u001b[0;34m(\u001b[0m\u001b[0mprice_df\u001b[0m\u001b[0;34m,\u001b[0m\u001b[0mfruit_info_df\u001b[0m\u001b[0;34m)\u001b[0m\u001b[0;34m\u001b[0m\u001b[0;34m\u001b[0m\u001b[0m\n\u001b[0m",
      "\u001b[0;32m~/opt/anaconda3/lib/python3.7/site-packages/pandas/core/reshape/merge.py\u001b[0m in \u001b[0;36mmerge\u001b[0;34m(left, right, how, on, left_on, right_on, left_index, right_index, sort, suffixes, copy, indicator, validate)\u001b[0m\n\u001b[1;32m     79\u001b[0m         \u001b[0mcopy\u001b[0m\u001b[0;34m=\u001b[0m\u001b[0mcopy\u001b[0m\u001b[0;34m,\u001b[0m\u001b[0;34m\u001b[0m\u001b[0;34m\u001b[0m\u001b[0m\n\u001b[1;32m     80\u001b[0m         \u001b[0mindicator\u001b[0m\u001b[0;34m=\u001b[0m\u001b[0mindicator\u001b[0m\u001b[0;34m,\u001b[0m\u001b[0;34m\u001b[0m\u001b[0;34m\u001b[0m\u001b[0m\n\u001b[0;32m---> 81\u001b[0;31m         \u001b[0mvalidate\u001b[0m\u001b[0;34m=\u001b[0m\u001b[0mvalidate\u001b[0m\u001b[0;34m,\u001b[0m\u001b[0;34m\u001b[0m\u001b[0;34m\u001b[0m\u001b[0m\n\u001b[0m\u001b[1;32m     82\u001b[0m     )\n\u001b[1;32m     83\u001b[0m     \u001b[0;32mreturn\u001b[0m \u001b[0mop\u001b[0m\u001b[0;34m.\u001b[0m\u001b[0mget_result\u001b[0m\u001b[0;34m(\u001b[0m\u001b[0;34m)\u001b[0m\u001b[0;34m\u001b[0m\u001b[0;34m\u001b[0m\u001b[0m\n",
      "\u001b[0;32m~/opt/anaconda3/lib/python3.7/site-packages/pandas/core/reshape/merge.py\u001b[0m in \u001b[0;36m__init__\u001b[0;34m(self, left, right, how, on, left_on, right_on, axis, left_index, right_index, sort, suffixes, copy, indicator, validate)\u001b[0m\n\u001b[1;32m    617\u001b[0m             \u001b[0mwarnings\u001b[0m\u001b[0;34m.\u001b[0m\u001b[0mwarn\u001b[0m\u001b[0;34m(\u001b[0m\u001b[0mmsg\u001b[0m\u001b[0;34m,\u001b[0m \u001b[0mUserWarning\u001b[0m\u001b[0;34m)\u001b[0m\u001b[0;34m\u001b[0m\u001b[0;34m\u001b[0m\u001b[0m\n\u001b[1;32m    618\u001b[0m \u001b[0;34m\u001b[0m\u001b[0m\n\u001b[0;32m--> 619\u001b[0;31m         \u001b[0mself\u001b[0m\u001b[0;34m.\u001b[0m\u001b[0m_validate_specification\u001b[0m\u001b[0;34m(\u001b[0m\u001b[0;34m)\u001b[0m\u001b[0;34m\u001b[0m\u001b[0;34m\u001b[0m\u001b[0m\n\u001b[0m\u001b[1;32m    620\u001b[0m \u001b[0;34m\u001b[0m\u001b[0m\n\u001b[1;32m    621\u001b[0m         \u001b[0;31m# note this function has side effects\u001b[0m\u001b[0;34m\u001b[0m\u001b[0;34m\u001b[0m\u001b[0;34m\u001b[0m\u001b[0m\n",
      "\u001b[0;32m~/opt/anaconda3/lib/python3.7/site-packages/pandas/core/reshape/merge.py\u001b[0m in \u001b[0;36m_validate_specification\u001b[0;34m(self)\u001b[0m\n\u001b[1;32m   1188\u001b[0m                             \u001b[0mron\u001b[0m\u001b[0;34m=\u001b[0m\u001b[0mself\u001b[0m\u001b[0;34m.\u001b[0m\u001b[0mright_on\u001b[0m\u001b[0;34m,\u001b[0m\u001b[0;34m\u001b[0m\u001b[0;34m\u001b[0m\u001b[0m\n\u001b[1;32m   1189\u001b[0m                             \u001b[0mlidx\u001b[0m\u001b[0;34m=\u001b[0m\u001b[0mself\u001b[0m\u001b[0;34m.\u001b[0m\u001b[0mleft_index\u001b[0m\u001b[0;34m,\u001b[0m\u001b[0;34m\u001b[0m\u001b[0;34m\u001b[0m\u001b[0m\n\u001b[0;32m-> 1190\u001b[0;31m                             \u001b[0mridx\u001b[0m\u001b[0;34m=\u001b[0m\u001b[0mself\u001b[0m\u001b[0;34m.\u001b[0m\u001b[0mright_index\u001b[0m\u001b[0;34m,\u001b[0m\u001b[0;34m\u001b[0m\u001b[0;34m\u001b[0m\u001b[0m\n\u001b[0m\u001b[1;32m   1191\u001b[0m                         )\n\u001b[1;32m   1192\u001b[0m                     )\n",
      "\u001b[0;31mMergeError\u001b[0m: No common columns to perform merge on. Merge options: left_on=None, right_on=None, left_index=False, right_index=False"
     ]
    }
   ],
   "source": [
    "pd.merge(price_df,fruit_info_df)"
   ]
  },
  {
   "cell_type": "markdown",
   "metadata": {},
   "source": [
    "What went wrong?\n",
    "\n",
    "First, we didn't spell fruit correctly.  Two ways to fix.  First, specify the columns directly:"
   ]
  },
  {
   "cell_type": "code",
   "execution_count": 8,
   "metadata": {},
   "outputs": [
    {
     "data": {
      "text/html": [
       "<div>\n",
       "<style scoped>\n",
       "    .dataframe tbody tr th:only-of-type {\n",
       "        vertical-align: middle;\n",
       "    }\n",
       "\n",
       "    .dataframe tbody tr th {\n",
       "        vertical-align: top;\n",
       "    }\n",
       "\n",
       "    .dataframe thead th {\n",
       "        text-align: right;\n",
       "    }\n",
       "</style>\n",
       "<table border=\"1\" class=\"dataframe\">\n",
       "  <thead>\n",
       "    <tr style=\"text-align: right;\">\n",
       "      <th></th>\n",
       "      <th>price</th>\n",
       "      <th>frut</th>\n",
       "      <th>fruit</th>\n",
       "      <th>color</th>\n",
       "      <th>weight</th>\n",
       "    </tr>\n",
       "  </thead>\n",
       "  <tbody>\n",
       "    <tr>\n",
       "      <td>0</td>\n",
       "      <td>0.50</td>\n",
       "      <td>apple</td>\n",
       "      <td>apple</td>\n",
       "      <td>red</td>\n",
       "      <td>120</td>\n",
       "    </tr>\n",
       "    <tr>\n",
       "      <td>1</td>\n",
       "      <td>0.65</td>\n",
       "      <td>banana</td>\n",
       "      <td>banana</td>\n",
       "      <td>yellow</td>\n",
       "      <td>150</td>\n",
       "    </tr>\n",
       "    <tr>\n",
       "      <td>2</td>\n",
       "      <td>1.00</td>\n",
       "      <td>orange</td>\n",
       "      <td>orange</td>\n",
       "      <td>orange</td>\n",
       "      <td>250</td>\n",
       "    </tr>\n",
       "  </tbody>\n",
       "</table>\n",
       "</div>"
      ],
      "text/plain": [
       "   price    frut   fruit   color  weight\n",
       "0   0.50   apple   apple     red     120\n",
       "1   0.65  banana  banana  yellow     150\n",
       "2   1.00  orange  orange  orange     250"
      ]
     },
     "execution_count": 8,
     "metadata": {},
     "output_type": "execute_result"
    }
   ],
   "source": [
    "pd.merge(price_df,fruit_info_df, left_on = 'frut', right_on = 'fruit')"
   ]
  },
  {
   "cell_type": "markdown",
   "metadata": {},
   "source": [
    "Second, fix the spelling and *don't* tell pandas.  In this case pandas works to figure out what's in common."
   ]
  },
  {
   "cell_type": "code",
   "execution_count": 9,
   "metadata": {},
   "outputs": [
    {
     "ename": "TypeError",
     "evalue": "Index does not support mutable operations",
     "output_type": "error",
     "traceback": [
      "\u001b[0;31m---------------------------------------------------------------------------\u001b[0m",
      "\u001b[0;31mTypeError\u001b[0m                                 Traceback (most recent call last)",
      "\u001b[0;32m<ipython-input-9-b7fbc8a6f930>\u001b[0m in \u001b[0;36m<module>\u001b[0;34m\u001b[0m\n\u001b[0;32m----> 1\u001b[0;31m \u001b[0mprice_df\u001b[0m\u001b[0;34m.\u001b[0m\u001b[0mcolumns\u001b[0m\u001b[0;34m[\u001b[0m\u001b[0;36m0\u001b[0m\u001b[0;34m]\u001b[0m\u001b[0;34m=\u001b[0m\u001b[0;34m'fruit'\u001b[0m\u001b[0;34m\u001b[0m\u001b[0;34m\u001b[0m\u001b[0m\n\u001b[0m",
      "\u001b[0;32m~/opt/anaconda3/lib/python3.7/site-packages/pandas/core/indexes/base.py\u001b[0m in \u001b[0;36m__setitem__\u001b[0;34m(self, key, value)\u001b[0m\n\u001b[1;32m   4258\u001b[0m \u001b[0;34m\u001b[0m\u001b[0m\n\u001b[1;32m   4259\u001b[0m     \u001b[0;32mdef\u001b[0m \u001b[0m__setitem__\u001b[0m\u001b[0;34m(\u001b[0m\u001b[0mself\u001b[0m\u001b[0;34m,\u001b[0m \u001b[0mkey\u001b[0m\u001b[0;34m,\u001b[0m \u001b[0mvalue\u001b[0m\u001b[0;34m)\u001b[0m\u001b[0;34m:\u001b[0m\u001b[0;34m\u001b[0m\u001b[0;34m\u001b[0m\u001b[0m\n\u001b[0;32m-> 4260\u001b[0;31m         \u001b[0;32mraise\u001b[0m \u001b[0mTypeError\u001b[0m\u001b[0;34m(\u001b[0m\u001b[0;34m\"Index does not support mutable operations\"\u001b[0m\u001b[0;34m)\u001b[0m\u001b[0;34m\u001b[0m\u001b[0;34m\u001b[0m\u001b[0m\n\u001b[0m\u001b[1;32m   4261\u001b[0m \u001b[0;34m\u001b[0m\u001b[0m\n\u001b[1;32m   4262\u001b[0m     \u001b[0;32mdef\u001b[0m \u001b[0m__getitem__\u001b[0m\u001b[0;34m(\u001b[0m\u001b[0mself\u001b[0m\u001b[0;34m,\u001b[0m \u001b[0mkey\u001b[0m\u001b[0;34m)\u001b[0m\u001b[0;34m:\u001b[0m\u001b[0;34m\u001b[0m\u001b[0;34m\u001b[0m\u001b[0m\n",
      "\u001b[0;31mTypeError\u001b[0m: Index does not support mutable operations"
     ]
    }
   ],
   "source": [
    "price_df.columns[0]='fruit'"
   ]
  },
  {
   "cell_type": "markdown",
   "metadata": {},
   "source": [
    "Bummer!  Can't mutate index values.  What to do?"
   ]
  },
  {
   "cell_type": "code",
   "execution_count": 10,
   "metadata": {},
   "outputs": [
    {
     "data": {
      "text/plain": [
       "['price', 'frut']"
      ]
     },
     "execution_count": 10,
     "metadata": {},
     "output_type": "execute_result"
    }
   ],
   "source": [
    "col_list = list(price_df.columns)\n",
    "col_list"
   ]
  },
  {
   "cell_type": "code",
   "execution_count": 11,
   "metadata": {},
   "outputs": [],
   "source": [
    "col_list[1] = 'fruit'"
   ]
  },
  {
   "cell_type": "code",
   "execution_count": 12,
   "metadata": {},
   "outputs": [
    {
     "data": {
      "text/html": [
       "<div>\n",
       "<style scoped>\n",
       "    .dataframe tbody tr th:only-of-type {\n",
       "        vertical-align: middle;\n",
       "    }\n",
       "\n",
       "    .dataframe tbody tr th {\n",
       "        vertical-align: top;\n",
       "    }\n",
       "\n",
       "    .dataframe thead th {\n",
       "        text-align: right;\n",
       "    }\n",
       "</style>\n",
       "<table border=\"1\" class=\"dataframe\">\n",
       "  <thead>\n",
       "    <tr style=\"text-align: right;\">\n",
       "      <th></th>\n",
       "      <th>price</th>\n",
       "      <th>fruit</th>\n",
       "    </tr>\n",
       "  </thead>\n",
       "  <tbody>\n",
       "    <tr>\n",
       "      <td>0</td>\n",
       "      <td>0.50</td>\n",
       "      <td>apple</td>\n",
       "    </tr>\n",
       "    <tr>\n",
       "      <td>1</td>\n",
       "      <td>0.65</td>\n",
       "      <td>banana</td>\n",
       "    </tr>\n",
       "    <tr>\n",
       "      <td>2</td>\n",
       "      <td>1.00</td>\n",
       "      <td>orange</td>\n",
       "    </tr>\n",
       "    <tr>\n",
       "      <td>3</td>\n",
       "      <td>0.15</td>\n",
       "      <td>rasberry</td>\n",
       "    </tr>\n",
       "  </tbody>\n",
       "</table>\n",
       "</div>"
      ],
      "text/plain": [
       "   price     fruit\n",
       "0   0.50     apple\n",
       "1   0.65    banana\n",
       "2   1.00    orange\n",
       "3   0.15  rasberry"
      ]
     },
     "execution_count": 12,
     "metadata": {},
     "output_type": "execute_result"
    }
   ],
   "source": [
    "price_df.columns = col_list\n",
    "price_df"
   ]
  },
  {
   "cell_type": "code",
   "execution_count": 13,
   "metadata": {},
   "outputs": [
    {
     "data": {
      "text/html": [
       "<div>\n",
       "<style scoped>\n",
       "    .dataframe tbody tr th:only-of-type {\n",
       "        vertical-align: middle;\n",
       "    }\n",
       "\n",
       "    .dataframe tbody tr th {\n",
       "        vertical-align: top;\n",
       "    }\n",
       "\n",
       "    .dataframe thead th {\n",
       "        text-align: right;\n",
       "    }\n",
       "</style>\n",
       "<table border=\"1\" class=\"dataframe\">\n",
       "  <thead>\n",
       "    <tr style=\"text-align: right;\">\n",
       "      <th></th>\n",
       "      <th>fruit</th>\n",
       "      <th>color</th>\n",
       "      <th>weight</th>\n",
       "      <th>price</th>\n",
       "    </tr>\n",
       "  </thead>\n",
       "  <tbody>\n",
       "    <tr>\n",
       "      <td>0</td>\n",
       "      <td>apple</td>\n",
       "      <td>red</td>\n",
       "      <td>120</td>\n",
       "      <td>0.50</td>\n",
       "    </tr>\n",
       "    <tr>\n",
       "      <td>1</td>\n",
       "      <td>banana</td>\n",
       "      <td>yellow</td>\n",
       "      <td>150</td>\n",
       "      <td>0.65</td>\n",
       "    </tr>\n",
       "    <tr>\n",
       "      <td>2</td>\n",
       "      <td>orange</td>\n",
       "      <td>orange</td>\n",
       "      <td>250</td>\n",
       "      <td>1.00</td>\n",
       "    </tr>\n",
       "  </tbody>\n",
       "</table>\n",
       "</div>"
      ],
      "text/plain": [
       "    fruit   color  weight  price\n",
       "0   apple     red     120   0.50\n",
       "1  banana  yellow     150   0.65\n",
       "2  orange  orange     250   1.00"
      ]
     },
     "execution_count": 13,
     "metadata": {},
     "output_type": "execute_result"
    }
   ],
   "source": [
    "pd.merge(fruit_info_df,price_df)"
   ]
  },
  {
   "cell_type": "markdown",
   "metadata": {},
   "source": [
    "Note we can use different syntax:"
   ]
  },
  {
   "cell_type": "code",
   "execution_count": 14,
   "metadata": {},
   "outputs": [
    {
     "data": {
      "text/html": [
       "<div>\n",
       "<style scoped>\n",
       "    .dataframe tbody tr th:only-of-type {\n",
       "        vertical-align: middle;\n",
       "    }\n",
       "\n",
       "    .dataframe tbody tr th {\n",
       "        vertical-align: top;\n",
       "    }\n",
       "\n",
       "    .dataframe thead th {\n",
       "        text-align: right;\n",
       "    }\n",
       "</style>\n",
       "<table border=\"1\" class=\"dataframe\">\n",
       "  <thead>\n",
       "    <tr style=\"text-align: right;\">\n",
       "      <th></th>\n",
       "      <th>fruit</th>\n",
       "      <th>color</th>\n",
       "      <th>weight</th>\n",
       "      <th>price</th>\n",
       "    </tr>\n",
       "  </thead>\n",
       "  <tbody>\n",
       "    <tr>\n",
       "      <td>0</td>\n",
       "      <td>apple</td>\n",
       "      <td>red</td>\n",
       "      <td>120</td>\n",
       "      <td>0.50</td>\n",
       "    </tr>\n",
       "    <tr>\n",
       "      <td>1</td>\n",
       "      <td>banana</td>\n",
       "      <td>yellow</td>\n",
       "      <td>150</td>\n",
       "      <td>0.65</td>\n",
       "    </tr>\n",
       "    <tr>\n",
       "      <td>2</td>\n",
       "      <td>orange</td>\n",
       "      <td>orange</td>\n",
       "      <td>250</td>\n",
       "      <td>1.00</td>\n",
       "    </tr>\n",
       "  </tbody>\n",
       "</table>\n",
       "</div>"
      ],
      "text/plain": [
       "    fruit   color  weight  price\n",
       "0   apple     red     120   0.50\n",
       "1  banana  yellow     150   0.65\n",
       "2  orange  orange     250   1.00"
      ]
     },
     "execution_count": 14,
     "metadata": {},
     "output_type": "execute_result"
    }
   ],
   "source": [
    "fruit_info_df.merge(price_df)"
   ]
  },
  {
   "cell_type": "markdown",
   "metadata": {},
   "source": [
    "Now we're still missing raspberries -- why?\n",
    "\n",
    "Again, spelling error in the new frame.  Let's fix:"
   ]
  },
  {
   "cell_type": "code",
   "execution_count": 15,
   "metadata": {},
   "outputs": [],
   "source": [
    "price_df.loc[3,'fruit'] = 'raspberry'"
   ]
  },
  {
   "cell_type": "markdown",
   "metadata": {},
   "source": [
    "Note we could change individual entries in the data frame itself.  They are mutable."
   ]
  },
  {
   "cell_type": "code",
   "execution_count": 16,
   "metadata": {},
   "outputs": [
    {
     "data": {
      "text/html": [
       "<div>\n",
       "<style scoped>\n",
       "    .dataframe tbody tr th:only-of-type {\n",
       "        vertical-align: middle;\n",
       "    }\n",
       "\n",
       "    .dataframe tbody tr th {\n",
       "        vertical-align: top;\n",
       "    }\n",
       "\n",
       "    .dataframe thead th {\n",
       "        text-align: right;\n",
       "    }\n",
       "</style>\n",
       "<table border=\"1\" class=\"dataframe\">\n",
       "  <thead>\n",
       "    <tr style=\"text-align: right;\">\n",
       "      <th></th>\n",
       "      <th>fruit</th>\n",
       "      <th>color</th>\n",
       "      <th>weight</th>\n",
       "      <th>price</th>\n",
       "    </tr>\n",
       "  </thead>\n",
       "  <tbody>\n",
       "    <tr>\n",
       "      <td>0</td>\n",
       "      <td>apple</td>\n",
       "      <td>red</td>\n",
       "      <td>120</td>\n",
       "      <td>0.50</td>\n",
       "    </tr>\n",
       "    <tr>\n",
       "      <td>1</td>\n",
       "      <td>banana</td>\n",
       "      <td>yellow</td>\n",
       "      <td>150</td>\n",
       "      <td>0.65</td>\n",
       "    </tr>\n",
       "    <tr>\n",
       "      <td>2</td>\n",
       "      <td>orange</td>\n",
       "      <td>orange</td>\n",
       "      <td>250</td>\n",
       "      <td>1.00</td>\n",
       "    </tr>\n",
       "    <tr>\n",
       "      <td>3</td>\n",
       "      <td>raspberry</td>\n",
       "      <td>pink</td>\n",
       "      <td>15</td>\n",
       "      <td>0.15</td>\n",
       "    </tr>\n",
       "  </tbody>\n",
       "</table>\n",
       "</div>"
      ],
      "text/plain": [
       "       fruit   color  weight  price\n",
       "0      apple     red     120   0.50\n",
       "1     banana  yellow     150   0.65\n",
       "2     orange  orange     250   1.00\n",
       "3  raspberry    pink      15   0.15"
      ]
     },
     "execution_count": 16,
     "metadata": {},
     "output_type": "execute_result"
    }
   ],
   "source": [
    "fruit_info_df.merge(price_df)"
   ]
  },
  {
   "cell_type": "markdown",
   "metadata": {},
   "source": [
    "Another few things to takeaway from this\n",
    "1. Merge can be brutal.  That is, it'll drop data without telling you.  BUT that's if we use the default 'inner' merge.  In a few lecture we'll talk about alternative ways to merge that are a little less draconian.\n",
    "2. It's important to review your results.  How many rows do you expect?  How many do you actually get?  Did something important get chucked out?  The ensuing solutions are the non-glamorous tasks of data cleaning."
   ]
  },
  {
   "cell_type": "markdown",
   "metadata": {},
   "source": [
    "Note, there are other commands -- `join`, `concat`, and these do similar things to `merge`.\n",
    "\n",
    "I've found merge seems to work well for most purposes.\n",
    "\n",
    "FWIW, `pd.concat` seems to be a little more brute force -- requires more careful syntax, but likely does unexpected things less often once you understand the syntax."
   ]
  },
  {
   "cell_type": "code",
   "execution_count": 17,
   "metadata": {},
   "outputs": [
    {
     "data": {
      "text/html": [
       "<div>\n",
       "<style scoped>\n",
       "    .dataframe tbody tr th:only-of-type {\n",
       "        vertical-align: middle;\n",
       "    }\n",
       "\n",
       "    .dataframe tbody tr th {\n",
       "        vertical-align: top;\n",
       "    }\n",
       "\n",
       "    .dataframe thead th {\n",
       "        text-align: right;\n",
       "    }\n",
       "</style>\n",
       "<table border=\"1\" class=\"dataframe\">\n",
       "  <thead>\n",
       "    <tr style=\"text-align: right;\">\n",
       "      <th></th>\n",
       "      <th>fruit</th>\n",
       "      <th>color</th>\n",
       "      <th>weight</th>\n",
       "      <th>price</th>\n",
       "    </tr>\n",
       "  </thead>\n",
       "  <tbody>\n",
       "    <tr>\n",
       "      <td>0</td>\n",
       "      <td>apple</td>\n",
       "      <td>red</td>\n",
       "      <td>120</td>\n",
       "      <td>0.50</td>\n",
       "    </tr>\n",
       "    <tr>\n",
       "      <td>1</td>\n",
       "      <td>banana</td>\n",
       "      <td>yellow</td>\n",
       "      <td>150</td>\n",
       "      <td>0.65</td>\n",
       "    </tr>\n",
       "    <tr>\n",
       "      <td>2</td>\n",
       "      <td>orange</td>\n",
       "      <td>orange</td>\n",
       "      <td>250</td>\n",
       "      <td>1.00</td>\n",
       "    </tr>\n",
       "    <tr>\n",
       "      <td>3</td>\n",
       "      <td>raspberry</td>\n",
       "      <td>pink</td>\n",
       "      <td>15</td>\n",
       "      <td>0.15</td>\n",
       "    </tr>\n",
       "  </tbody>\n",
       "</table>\n",
       "</div>"
      ],
      "text/plain": [
       "       fruit   color  weight  price\n",
       "0      apple     red     120   0.50\n",
       "1     banana  yellow     150   0.65\n",
       "2     orange  orange     250   1.00\n",
       "3  raspberry    pink      15   0.15"
      ]
     },
     "execution_count": 17,
     "metadata": {},
     "output_type": "execute_result"
    }
   ],
   "source": [
    "merged_df = fruit_info_df.merge(price_df)\n",
    "merged_df"
   ]
  },
  {
   "cell_type": "markdown",
   "metadata": {},
   "source": [
    "We can streamline by replacing the index number with the fruit column.  \n",
    "\n",
    "What's the `inplace` command for?  It means the re-defined dataframe is assigned to the original name.  This is advantageous in memory constrained situations.  "
   ]
  },
  {
   "cell_type": "code",
   "execution_count": 18,
   "metadata": {},
   "outputs": [
    {
     "data": {
      "text/html": [
       "<div>\n",
       "<style scoped>\n",
       "    .dataframe tbody tr th:only-of-type {\n",
       "        vertical-align: middle;\n",
       "    }\n",
       "\n",
       "    .dataframe tbody tr th {\n",
       "        vertical-align: top;\n",
       "    }\n",
       "\n",
       "    .dataframe thead th {\n",
       "        text-align: right;\n",
       "    }\n",
       "</style>\n",
       "<table border=\"1\" class=\"dataframe\">\n",
       "  <thead>\n",
       "    <tr style=\"text-align: right;\">\n",
       "      <th></th>\n",
       "      <th>color</th>\n",
       "      <th>weight</th>\n",
       "      <th>price</th>\n",
       "    </tr>\n",
       "    <tr>\n",
       "      <th>fruit</th>\n",
       "      <th></th>\n",
       "      <th></th>\n",
       "      <th></th>\n",
       "    </tr>\n",
       "  </thead>\n",
       "  <tbody>\n",
       "    <tr>\n",
       "      <td>apple</td>\n",
       "      <td>red</td>\n",
       "      <td>120</td>\n",
       "      <td>0.50</td>\n",
       "    </tr>\n",
       "    <tr>\n",
       "      <td>banana</td>\n",
       "      <td>yellow</td>\n",
       "      <td>150</td>\n",
       "      <td>0.65</td>\n",
       "    </tr>\n",
       "    <tr>\n",
       "      <td>orange</td>\n",
       "      <td>orange</td>\n",
       "      <td>250</td>\n",
       "      <td>1.00</td>\n",
       "    </tr>\n",
       "    <tr>\n",
       "      <td>raspberry</td>\n",
       "      <td>pink</td>\n",
       "      <td>15</td>\n",
       "      <td>0.15</td>\n",
       "    </tr>\n",
       "  </tbody>\n",
       "</table>\n",
       "</div>"
      ],
      "text/plain": [
       "            color  weight  price\n",
       "fruit                           \n",
       "apple         red     120   0.50\n",
       "banana     yellow     150   0.65\n",
       "orange     orange     250   1.00\n",
       "raspberry    pink      15   0.15"
      ]
     },
     "execution_count": 18,
     "metadata": {},
     "output_type": "execute_result"
    }
   ],
   "source": [
    "merged_df.set_index('fruit', inplace = True)\n",
    "merged_df"
   ]
  },
  {
   "cell_type": "markdown",
   "metadata": {},
   "source": [
    "## Multilevel indexing\n",
    "We can also assign \"multilevel\" column or row names, like so:"
   ]
  },
  {
   "cell_type": "code",
   "execution_count": 19,
   "metadata": {},
   "outputs": [
    {
     "data": {
      "text/plain": [
       "[('categorical', 'color'),\n",
       " ('quantitative', 'weight'),\n",
       " ('quantitative', 'price')]"
      ]
     },
     "execution_count": 19,
     "metadata": {},
     "output_type": "execute_result"
    }
   ],
   "source": [
    "levels = [('categorical', 'color'),('quantitative', 'weight'),('quantitative','price')]\n",
    "levels"
   ]
  },
  {
   "cell_type": "markdown",
   "metadata": {},
   "source": [
    "Note the  use of tuples (sets of values in parentheses) in setting up multiindex.  This will come again later.  "
   ]
  },
  {
   "cell_type": "code",
   "execution_count": 20,
   "metadata": {},
   "outputs": [
    {
     "data": {
      "text/html": [
       "<div>\n",
       "<style scoped>\n",
       "    .dataframe tbody tr th:only-of-type {\n",
       "        vertical-align: middle;\n",
       "    }\n",
       "\n",
       "    .dataframe tbody tr th {\n",
       "        vertical-align: top;\n",
       "    }\n",
       "\n",
       "    .dataframe thead tr th {\n",
       "        text-align: left;\n",
       "    }\n",
       "\n",
       "    .dataframe thead tr:last-of-type th {\n",
       "        text-align: right;\n",
       "    }\n",
       "</style>\n",
       "<table border=\"1\" class=\"dataframe\">\n",
       "  <thead>\n",
       "    <tr>\n",
       "      <th></th>\n",
       "      <th>categorical</th>\n",
       "      <th colspan=\"2\" halign=\"left\">quantitative</th>\n",
       "    </tr>\n",
       "    <tr>\n",
       "      <th></th>\n",
       "      <th>color</th>\n",
       "      <th>weight</th>\n",
       "      <th>price</th>\n",
       "    </tr>\n",
       "    <tr>\n",
       "      <th>fruit</th>\n",
       "      <th></th>\n",
       "      <th></th>\n",
       "      <th></th>\n",
       "    </tr>\n",
       "  </thead>\n",
       "  <tbody>\n",
       "    <tr>\n",
       "      <td>apple</td>\n",
       "      <td>red</td>\n",
       "      <td>120</td>\n",
       "      <td>0.50</td>\n",
       "    </tr>\n",
       "    <tr>\n",
       "      <td>banana</td>\n",
       "      <td>yellow</td>\n",
       "      <td>150</td>\n",
       "      <td>0.65</td>\n",
       "    </tr>\n",
       "    <tr>\n",
       "      <td>orange</td>\n",
       "      <td>orange</td>\n",
       "      <td>250</td>\n",
       "      <td>1.00</td>\n",
       "    </tr>\n",
       "    <tr>\n",
       "      <td>raspberry</td>\n",
       "      <td>pink</td>\n",
       "      <td>15</td>\n",
       "      <td>0.15</td>\n",
       "    </tr>\n",
       "  </tbody>\n",
       "</table>\n",
       "</div>"
      ],
      "text/plain": [
       "          categorical quantitative      \n",
       "                color       weight price\n",
       "fruit                                   \n",
       "apple             red          120  0.50\n",
       "banana         yellow          150  0.65\n",
       "orange         orange          250  1.00\n",
       "raspberry        pink           15  0.15"
      ]
     },
     "execution_count": 20,
     "metadata": {},
     "output_type": "execute_result"
    }
   ],
   "source": [
    "merged_df.columns = pd.MultiIndex.from_tuples(levels)\n",
    "merged_df"
   ]
  },
  {
   "cell_type": "markdown",
   "metadata": {},
   "source": [
    "Now we have categories and subcategories of columns:"
   ]
  },
  {
   "cell_type": "code",
   "execution_count": 21,
   "metadata": {},
   "outputs": [
    {
     "data": {
      "text/html": [
       "<div>\n",
       "<style scoped>\n",
       "    .dataframe tbody tr th:only-of-type {\n",
       "        vertical-align: middle;\n",
       "    }\n",
       "\n",
       "    .dataframe tbody tr th {\n",
       "        vertical-align: top;\n",
       "    }\n",
       "\n",
       "    .dataframe thead th {\n",
       "        text-align: right;\n",
       "    }\n",
       "</style>\n",
       "<table border=\"1\" class=\"dataframe\">\n",
       "  <thead>\n",
       "    <tr style=\"text-align: right;\">\n",
       "      <th></th>\n",
       "      <th>weight</th>\n",
       "      <th>price</th>\n",
       "    </tr>\n",
       "    <tr>\n",
       "      <th>fruit</th>\n",
       "      <th></th>\n",
       "      <th></th>\n",
       "    </tr>\n",
       "  </thead>\n",
       "  <tbody>\n",
       "    <tr>\n",
       "      <td>apple</td>\n",
       "      <td>120</td>\n",
       "      <td>0.50</td>\n",
       "    </tr>\n",
       "    <tr>\n",
       "      <td>banana</td>\n",
       "      <td>150</td>\n",
       "      <td>0.65</td>\n",
       "    </tr>\n",
       "    <tr>\n",
       "      <td>orange</td>\n",
       "      <td>250</td>\n",
       "      <td>1.00</td>\n",
       "    </tr>\n",
       "    <tr>\n",
       "      <td>raspberry</td>\n",
       "      <td>15</td>\n",
       "      <td>0.15</td>\n",
       "    </tr>\n",
       "  </tbody>\n",
       "</table>\n",
       "</div>"
      ],
      "text/plain": [
       "           weight  price\n",
       "fruit                   \n",
       "apple         120   0.50\n",
       "banana        150   0.65\n",
       "orange        250   1.00\n",
       "raspberry      15   0.15"
      ]
     },
     "execution_count": 21,
     "metadata": {},
     "output_type": "execute_result"
    }
   ],
   "source": [
    "merged_df['quantitative']"
   ]
  },
  {
   "cell_type": "markdown",
   "metadata": {},
   "source": [
    "Note, we can also drop and add things.  With multilevel indexing things get a little tricky.  \n",
    "\n",
    "First, we can drop everything from the top level:"
   ]
  },
  {
   "cell_type": "code",
   "execution_count": 22,
   "metadata": {},
   "outputs": [
    {
     "data": {
      "text/html": [
       "<div>\n",
       "<style scoped>\n",
       "    .dataframe tbody tr th:only-of-type {\n",
       "        vertical-align: middle;\n",
       "    }\n",
       "\n",
       "    .dataframe tbody tr th {\n",
       "        vertical-align: top;\n",
       "    }\n",
       "\n",
       "    .dataframe thead tr th {\n",
       "        text-align: left;\n",
       "    }\n",
       "\n",
       "    .dataframe thead tr:last-of-type th {\n",
       "        text-align: right;\n",
       "    }\n",
       "</style>\n",
       "<table border=\"1\" class=\"dataframe\">\n",
       "  <thead>\n",
       "    <tr>\n",
       "      <th></th>\n",
       "      <th>categorical</th>\n",
       "    </tr>\n",
       "    <tr>\n",
       "      <th></th>\n",
       "      <th>color</th>\n",
       "    </tr>\n",
       "    <tr>\n",
       "      <th>fruit</th>\n",
       "      <th></th>\n",
       "    </tr>\n",
       "  </thead>\n",
       "  <tbody>\n",
       "    <tr>\n",
       "      <td>apple</td>\n",
       "      <td>red</td>\n",
       "    </tr>\n",
       "    <tr>\n",
       "      <td>banana</td>\n",
       "      <td>yellow</td>\n",
       "    </tr>\n",
       "    <tr>\n",
       "      <td>orange</td>\n",
       "      <td>orange</td>\n",
       "    </tr>\n",
       "    <tr>\n",
       "      <td>raspberry</td>\n",
       "      <td>pink</td>\n",
       "    </tr>\n",
       "  </tbody>\n",
       "</table>\n",
       "</div>"
      ],
      "text/plain": [
       "          categorical\n",
       "                color\n",
       "fruit                \n",
       "apple             red\n",
       "banana         yellow\n",
       "orange         orange\n",
       "raspberry        pink"
      ]
     },
     "execution_count": 22,
     "metadata": {},
     "output_type": "execute_result"
    }
   ],
   "source": [
    "merged_test_df = merged_df.drop(columns=[('quantitative',)], axis = 1)\n",
    "merged_test_df"
   ]
  },
  {
   "cell_type": "markdown",
   "metadata": {},
   "source": [
    "Note that I put the column identifier inside the parens, like a tuple, but it's not essential there.\n",
    "\n",
    "However if we want to drop only a column from the second level, we get an error without the tuple syntax:"
   ]
  },
  {
   "cell_type": "code",
   "execution_count": 23,
   "metadata": {},
   "outputs": [
    {
     "data": {
      "text/html": [
       "<div>\n",
       "<style scoped>\n",
       "    .dataframe tbody tr th:only-of-type {\n",
       "        vertical-align: middle;\n",
       "    }\n",
       "\n",
       "    .dataframe tbody tr th {\n",
       "        vertical-align: top;\n",
       "    }\n",
       "\n",
       "    .dataframe thead tr th {\n",
       "        text-align: left;\n",
       "    }\n",
       "\n",
       "    .dataframe thead tr:last-of-type th {\n",
       "        text-align: right;\n",
       "    }\n",
       "</style>\n",
       "<table border=\"1\" class=\"dataframe\">\n",
       "  <thead>\n",
       "    <tr>\n",
       "      <th></th>\n",
       "      <th>categorical</th>\n",
       "      <th>quantitative</th>\n",
       "    </tr>\n",
       "    <tr>\n",
       "      <th></th>\n",
       "      <th>color</th>\n",
       "      <th>weight</th>\n",
       "    </tr>\n",
       "    <tr>\n",
       "      <th>fruit</th>\n",
       "      <th></th>\n",
       "      <th></th>\n",
       "    </tr>\n",
       "  </thead>\n",
       "  <tbody>\n",
       "    <tr>\n",
       "      <td>apple</td>\n",
       "      <td>red</td>\n",
       "      <td>120</td>\n",
       "    </tr>\n",
       "    <tr>\n",
       "      <td>banana</td>\n",
       "      <td>yellow</td>\n",
       "      <td>150</td>\n",
       "    </tr>\n",
       "    <tr>\n",
       "      <td>orange</td>\n",
       "      <td>orange</td>\n",
       "      <td>250</td>\n",
       "    </tr>\n",
       "    <tr>\n",
       "      <td>raspberry</td>\n",
       "      <td>pink</td>\n",
       "      <td>15</td>\n",
       "    </tr>\n",
       "  </tbody>\n",
       "</table>\n",
       "</div>"
      ],
      "text/plain": [
       "          categorical quantitative\n",
       "                color       weight\n",
       "fruit                             \n",
       "apple             red          120\n",
       "banana         yellow          150\n",
       "orange         orange          250\n",
       "raspberry        pink           15"
      ]
     },
     "execution_count": 23,
     "metadata": {},
     "output_type": "execute_result"
    }
   ],
   "source": [
    "merged_test_df = merged_df.drop(columns=[('quantitative','price')], axis = 1)\n",
    "merged_test_df"
   ]
  },
  {
   "cell_type": "markdown",
   "metadata": {},
   "source": [
    "We can also drop rows: "
   ]
  },
  {
   "cell_type": "code",
   "execution_count": 24,
   "metadata": {},
   "outputs": [
    {
     "data": {
      "text/html": [
       "<div>\n",
       "<style scoped>\n",
       "    .dataframe tbody tr th:only-of-type {\n",
       "        vertical-align: middle;\n",
       "    }\n",
       "\n",
       "    .dataframe tbody tr th {\n",
       "        vertical-align: top;\n",
       "    }\n",
       "\n",
       "    .dataframe thead tr th {\n",
       "        text-align: left;\n",
       "    }\n",
       "\n",
       "    .dataframe thead tr:last-of-type th {\n",
       "        text-align: right;\n",
       "    }\n",
       "</style>\n",
       "<table border=\"1\" class=\"dataframe\">\n",
       "  <thead>\n",
       "    <tr>\n",
       "      <th></th>\n",
       "      <th>categorical</th>\n",
       "      <th colspan=\"2\" halign=\"left\">quantitative</th>\n",
       "    </tr>\n",
       "    <tr>\n",
       "      <th></th>\n",
       "      <th>color</th>\n",
       "      <th>weight</th>\n",
       "      <th>price</th>\n",
       "    </tr>\n",
       "    <tr>\n",
       "      <th>fruit</th>\n",
       "      <th></th>\n",
       "      <th></th>\n",
       "      <th></th>\n",
       "    </tr>\n",
       "  </thead>\n",
       "  <tbody>\n",
       "    <tr>\n",
       "      <td>banana</td>\n",
       "      <td>yellow</td>\n",
       "      <td>150</td>\n",
       "      <td>0.65</td>\n",
       "    </tr>\n",
       "    <tr>\n",
       "      <td>orange</td>\n",
       "      <td>orange</td>\n",
       "      <td>250</td>\n",
       "      <td>1.00</td>\n",
       "    </tr>\n",
       "    <tr>\n",
       "      <td>raspberry</td>\n",
       "      <td>pink</td>\n",
       "      <td>15</td>\n",
       "      <td>0.15</td>\n",
       "    </tr>\n",
       "  </tbody>\n",
       "</table>\n",
       "</div>"
      ],
      "text/plain": [
       "          categorical quantitative      \n",
       "                color       weight price\n",
       "fruit                                   \n",
       "banana         yellow          150  0.65\n",
       "orange         orange          250  1.00\n",
       "raspberry        pink           15  0.15"
      ]
     },
     "execution_count": 24,
     "metadata": {},
     "output_type": "execute_result"
    }
   ],
   "source": [
    "merged_df.drop(index=[('apple')], axis = 0, inplace = True)\n",
    "merged_df"
   ]
  },
  {
   "cell_type": "markdown",
   "metadata": {},
   "source": [
    "Note indexing multilevels with `.loc` gets a little tricky.  The thing to keep in mind is that you're working with tuples in each index location:"
   ]
  },
  {
   "cell_type": "code",
   "execution_count": 25,
   "metadata": {},
   "outputs": [
    {
     "data": {
      "text/plain": [
       "0.65"
      ]
     },
     "execution_count": 25,
     "metadata": {},
     "output_type": "execute_result"
    }
   ],
   "source": [
    "merged_df.loc['banana', ('quantitative', 'price')]"
   ]
  },
  {
   "cell_type": "markdown",
   "metadata": {},
   "source": [
    "If you leave an entry of the tuple empty you get all values.  "
   ]
  },
  {
   "cell_type": "code",
   "execution_count": 26,
   "metadata": {},
   "outputs": [
    {
     "data": {
      "text/plain": [
       "weight     150\n",
       "price     0.65\n",
       "Name: banana, dtype: object"
      ]
     },
     "execution_count": 26,
     "metadata": {},
     "output_type": "execute_result"
    }
   ],
   "source": [
    "merged_df.loc['banana', ('quantitative', )]"
   ]
  },
  {
   "cell_type": "markdown",
   "metadata": {},
   "source": [
    "You can also loop through the columns of the multilevel data frame like this: "
   ]
  },
  {
   "cell_type": "code",
   "execution_count": 27,
   "metadata": {},
   "outputs": [
    {
     "name": "stdout",
     "output_type": "stream",
     "text": [
      "yellow\n",
      "150\n",
      "0.65\n"
     ]
    }
   ],
   "source": [
    "for i, j in merged_df:\n",
    "    print(merged_df.loc['banana', (i, j)])"
   ]
  },
  {
   "cell_type": "markdown",
   "metadata": {},
   "source": [
    "Some added thoughts:\n",
    "1. Multilevel indexing works for columns and index\n",
    "2. It can be a powerful way to summarize your data and quickly reference subsets of it.\n",
    "4. However it can also be a colossal pain in the rear -- indexing with multilevel is often very hard to parse and debug."
   ]
  },
  {
   "cell_type": "markdown",
   "metadata": {},
   "source": [
    "## Groupby\n",
    "(these notes adapted from Spring 2018 DS100 notebook)\n",
    "\n",
    "First, let's have another look at today's power point file.  Now we'll learn about how groupby works."
   ]
  },
  {
   "cell_type": "markdown",
   "metadata": {},
   "source": [
    "Back to the notebook, let's make a toy DF (example taken from Wes McKinney's [Python for Data Analysis](http://proquest.safaribooksonline.com.libproxy.berkeley.edu/book/programming/python/9781491957653):"
   ]
  },
  {
   "cell_type": "code",
   "execution_count": 28,
   "metadata": {},
   "outputs": [
    {
     "data": {
      "text/html": [
       "<div>\n",
       "<style scoped>\n",
       "    .dataframe tbody tr th:only-of-type {\n",
       "        vertical-align: middle;\n",
       "    }\n",
       "\n",
       "    .dataframe tbody tr th {\n",
       "        vertical-align: top;\n",
       "    }\n",
       "\n",
       "    .dataframe thead th {\n",
       "        text-align: right;\n",
       "    }\n",
       "</style>\n",
       "<table border=\"1\" class=\"dataframe\">\n",
       "  <thead>\n",
       "    <tr style=\"text-align: right;\">\n",
       "      <th></th>\n",
       "      <th>key1</th>\n",
       "      <th>key2</th>\n",
       "      <th>data1</th>\n",
       "      <th>data2</th>\n",
       "    </tr>\n",
       "  </thead>\n",
       "  <tbody>\n",
       "    <tr>\n",
       "      <td>0</td>\n",
       "      <td>a</td>\n",
       "      <td>one</td>\n",
       "      <td>0.240236</td>\n",
       "      <td>0.303708</td>\n",
       "    </tr>\n",
       "    <tr>\n",
       "      <td>1</td>\n",
       "      <td>a</td>\n",
       "      <td>two</td>\n",
       "      <td>0.053173</td>\n",
       "      <td>-0.341313</td>\n",
       "    </tr>\n",
       "    <tr>\n",
       "      <td>2</td>\n",
       "      <td>b</td>\n",
       "      <td>one</td>\n",
       "      <td>-0.150036</td>\n",
       "      <td>-1.689679</td>\n",
       "    </tr>\n",
       "    <tr>\n",
       "      <td>3</td>\n",
       "      <td>b</td>\n",
       "      <td>two</td>\n",
       "      <td>1.590772</td>\n",
       "      <td>1.207901</td>\n",
       "    </tr>\n",
       "    <tr>\n",
       "      <td>4</td>\n",
       "      <td>a</td>\n",
       "      <td>one</td>\n",
       "      <td>-2.295662</td>\n",
       "      <td>0.214001</td>\n",
       "    </tr>\n",
       "  </tbody>\n",
       "</table>\n",
       "</div>"
      ],
      "text/plain": [
       "  key1 key2     data1     data2\n",
       "0    a  one  0.240236  0.303708\n",
       "1    a  two  0.053173 -0.341313\n",
       "2    b  one -0.150036 -1.689679\n",
       "3    b  two  1.590772  1.207901\n",
       "4    a  one -2.295662  0.214001"
      ]
     },
     "execution_count": 28,
     "metadata": {},
     "output_type": "execute_result"
    }
   ],
   "source": [
    "df = pd.DataFrame({'key1' : ['a', 'a', 'b', 'b', 'a'],\n",
    "                   'key2' : ['one', 'two', 'one', 'two', 'one'],\n",
    "                   'data1' : np.random.randn(5),\n",
    "                   'data2' : np.random.randn(5)})\n",
    "df"
   ]
  },
  {
   "cell_type": "markdown",
   "metadata": {},
   "source": [
    "Let's group just the `data1` column by the `key1` column. A call to [`groupby`](https://pandas.pydata.org/pandas-docs/stable/generated/pandas.DataFrame.groupby.html) does that.  \n",
    "\n",
    "Note, the syntax is to begin by invoking the portion of the dataframe we want to group (here, `df['data1']`), then we apply the groupby method with the portion of hte dataframe we want to group on (here `df['key1']`)\n",
    "\n",
    "What is the object that results?"
   ]
  },
  {
   "cell_type": "code",
   "execution_count": 29,
   "metadata": {
    "scrolled": true
   },
   "outputs": [
    {
     "data": {
      "text/plain": [
       "<pandas.core.groupby.generic.SeriesGroupBy object at 0x1136df5d0>"
      ]
     },
     "execution_count": 29,
     "metadata": {},
     "output_type": "execute_result"
    }
   ],
   "source": [
    "grouped = df['data1'].groupby(df['key1'])\n",
    "grouped"
   ]
  },
  {
   "cell_type": "markdown",
   "metadata": {},
   "source": [
    "As we see, it's not simply a new DataFrame. Instead, it's an object, in this case `SeriesGroupBy`.  We'll see in a moment that if we group many columns of data we get a `DataFrameGroupBy` object.\n",
    "\n",
    "To look inside we need to use different syntax.  The specific thing we're looking for are the groups of the object...but let's tab in to the grouped object to see what's there."
   ]
  },
  {
   "cell_type": "code",
   "execution_count": 30,
   "metadata": {},
   "outputs": [
    {
     "data": {
      "text/plain": [
       "{'a': Int64Index([0, 1, 4], dtype='int64'),\n",
       " 'b': Int64Index([2, 3], dtype='int64')}"
      ]
     },
     "execution_count": 30,
     "metadata": {},
     "output_type": "execute_result"
    }
   ],
   "source": [
    "grouped.groups"
   ]
  },
  {
   "cell_type": "markdown",
   "metadata": {},
   "source": [
    "That gave us the groups (a and b) and the indices of elements in the groups, but nothing else. \n",
    "\n",
    "You can see this structure looks like a dict.  a and b are the keys, and the data are lists associated with each key -- the values.  "
   ]
  },
  {
   "cell_type": "markdown",
   "metadata": {},
   "source": [
    "But the `grouped` object is capable of making computations across all groups -- this is where it gets powerful.   \n",
    "\n",
    "We can try things like `.count()`, `.min()` and `.mean()`.  \n",
    "\n",
    "Notice if you don't put the parens after the method, pandas returns information about what the method does, but not it's actual output.  "
   ]
  },
  {
   "cell_type": "code",
   "execution_count": 31,
   "metadata": {},
   "outputs": [
    {
     "data": {
      "text/plain": [
       "key1\n",
       "a   -2.295662\n",
       "b   -0.150036\n",
       "Name: data1, dtype: float64"
      ]
     },
     "execution_count": 31,
     "metadata": {},
     "output_type": "execute_result"
    }
   ],
   "source": [
    "grouped.aggregate(min)"
   ]
  },
  {
   "cell_type": "markdown",
   "metadata": {},
   "source": [
    "There are a number of functions you can pass in to ``aggregate``, like `sum` and `max`.\n",
    "\n",
    "But it can be informative to look at what's inside. We can iterate over a `groupby` object, as we iterate we get pairs of `(name, group)`, where the `group` is either a `Series` or a `DataFrame`, depending on whether the `groupby` object is a `SeriesGroupBy` (as above) or a `DataFrameGroupBy` (see below).\n",
    "\n",
    "Something quirky to note about the interaction between the grouped object and the for loop structure below: we're going to define variables `name` and `group` as being things in `grouped`.  But there are no `name` or `group` attributes associated with the `grouped` object.  These "
   ]
  },
  {
   "cell_type": "code",
   "execution_count": 32,
   "metadata": {},
   "outputs": [
    {
     "name": "stdout",
     "output_type": "stream",
     "text": [
      "Name: a\n"
     ]
    },
    {
     "data": {
      "text/plain": [
       "0    0.240236\n",
       "1    0.053173\n",
       "4   -2.295662\n",
       "Name: data1, dtype: float64"
      ]
     },
     "metadata": {},
     "output_type": "display_data"
    },
    {
     "name": "stdout",
     "output_type": "stream",
     "text": [
      "Name: b\n"
     ]
    },
    {
     "data": {
      "text/plain": [
       "2   -0.150036\n",
       "3    1.590772\n",
       "Name: data1, dtype: float64"
      ]
     },
     "metadata": {},
     "output_type": "display_data"
    }
   ],
   "source": [
    "from IPython.display import display  # like print, but for complex objects\n",
    "\n",
    "for name, group in grouped:\n",
    "    print('Name:', name)\n",
    "    display(group)"
   ]
  },
  {
   "cell_type": "markdown",
   "metadata": {},
   "source": [
    "We can group on multiple keys, and the result is grouping by tuples:"
   ]
  },
  {
   "cell_type": "code",
   "execution_count": 33,
   "metadata": {},
   "outputs": [
    {
     "data": {
      "text/plain": [
       "<pandas.core.groupby.generic.SeriesGroupBy object at 0x113708d90>"
      ]
     },
     "execution_count": 33,
     "metadata": {},
     "output_type": "execute_result"
    }
   ],
   "source": [
    "g2 = df['data1'].groupby([df['key1'], df['key2']])\n",
    "g2"
   ]
  },
  {
   "cell_type": "code",
   "execution_count": 34,
   "metadata": {},
   "outputs": [
    {
     "data": {
      "text/plain": [
       "{('a', 'one'): Int64Index([0, 4], dtype='int64'),\n",
       " ('a', 'two'): Int64Index([1], dtype='int64'),\n",
       " ('b', 'one'): Int64Index([2], dtype='int64'),\n",
       " ('b', 'two'): Int64Index([3], dtype='int64')}"
      ]
     },
     "execution_count": 34,
     "metadata": {},
     "output_type": "execute_result"
    }
   ],
   "source": [
    "g2.groups"
   ]
  },
  {
   "cell_type": "markdown",
   "metadata": {},
   "source": [
    "Now we have a groupby object that has tuples as the keys.  \n",
    "\n",
    "Let's look at the dataframe again, for a reminder:"
   ]
  },
  {
   "cell_type": "code",
   "execution_count": 35,
   "metadata": {},
   "outputs": [
    {
     "data": {
      "text/html": [
       "<div>\n",
       "<style scoped>\n",
       "    .dataframe tbody tr th:only-of-type {\n",
       "        vertical-align: middle;\n",
       "    }\n",
       "\n",
       "    .dataframe tbody tr th {\n",
       "        vertical-align: top;\n",
       "    }\n",
       "\n",
       "    .dataframe thead th {\n",
       "        text-align: right;\n",
       "    }\n",
       "</style>\n",
       "<table border=\"1\" class=\"dataframe\">\n",
       "  <thead>\n",
       "    <tr style=\"text-align: right;\">\n",
       "      <th></th>\n",
       "      <th>key1</th>\n",
       "      <th>key2</th>\n",
       "      <th>data1</th>\n",
       "      <th>data2</th>\n",
       "    </tr>\n",
       "  </thead>\n",
       "  <tbody>\n",
       "    <tr>\n",
       "      <td>0</td>\n",
       "      <td>a</td>\n",
       "      <td>one</td>\n",
       "      <td>0.240236</td>\n",
       "      <td>0.303708</td>\n",
       "    </tr>\n",
       "    <tr>\n",
       "      <td>1</td>\n",
       "      <td>a</td>\n",
       "      <td>two</td>\n",
       "      <td>0.053173</td>\n",
       "      <td>-0.341313</td>\n",
       "    </tr>\n",
       "    <tr>\n",
       "      <td>2</td>\n",
       "      <td>b</td>\n",
       "      <td>one</td>\n",
       "      <td>-0.150036</td>\n",
       "      <td>-1.689679</td>\n",
       "    </tr>\n",
       "    <tr>\n",
       "      <td>3</td>\n",
       "      <td>b</td>\n",
       "      <td>two</td>\n",
       "      <td>1.590772</td>\n",
       "      <td>1.207901</td>\n",
       "    </tr>\n",
       "    <tr>\n",
       "      <td>4</td>\n",
       "      <td>a</td>\n",
       "      <td>one</td>\n",
       "      <td>-2.295662</td>\n",
       "      <td>0.214001</td>\n",
       "    </tr>\n",
       "  </tbody>\n",
       "</table>\n",
       "</div>"
      ],
      "text/plain": [
       "  key1 key2     data1     data2\n",
       "0    a  one  0.240236  0.303708\n",
       "1    a  two  0.053173 -0.341313\n",
       "2    b  one -0.150036 -1.689679\n",
       "3    b  two  1.590772  1.207901\n",
       "4    a  one -2.295662  0.214001"
      ]
     },
     "execution_count": 35,
     "metadata": {},
     "output_type": "execute_result"
    }
   ],
   "source": [
    "df"
   ]
  },
  {
   "cell_type": "code",
   "execution_count": 36,
   "metadata": {},
   "outputs": [
    {
     "data": {
      "text/plain": [
       "key1  key2\n",
       "a     one    -1.027713\n",
       "      two     0.053173\n",
       "b     one    -0.150036\n",
       "      two     1.590772\n",
       "Name: data1, dtype: float64"
      ]
     },
     "execution_count": 36,
     "metadata": {},
     "output_type": "execute_result"
    }
   ],
   "source": [
    "g2.mean()"
   ]
  },
  {
   "cell_type": "markdown",
   "metadata": {},
   "source": [
    "We can also group the entire dataframe -- not just one column of it -- on a single key. This results in a `DataFrameGroupBy` object as the result:"
   ]
  },
  {
   "cell_type": "code",
   "execution_count": 37,
   "metadata": {},
   "outputs": [
    {
     "data": {
      "text/plain": [
       "<pandas.core.groupby.generic.DataFrameGroupBy object at 0x1136dfcd0>"
      ]
     },
     "execution_count": 37,
     "metadata": {},
     "output_type": "execute_result"
    }
   ],
   "source": [
    "k1g = df.groupby('key1')\n",
    "k1g"
   ]
  },
  {
   "cell_type": "code",
   "execution_count": 38,
   "metadata": {},
   "outputs": [
    {
     "data": {
      "text/plain": [
       "{'a': Int64Index([0, 1, 4], dtype='int64'),\n",
       " 'b': Int64Index([2, 3], dtype='int64')}"
      ]
     },
     "execution_count": 38,
     "metadata": {},
     "output_type": "execute_result"
    }
   ],
   "source": [
    "k1g.groups"
   ]
  },
  {
   "cell_type": "markdown",
   "metadata": {},
   "source": [
    "That output actually looks a lot like the output when we were only grouping one of the columns of the dataframe.  But there is actually more information in the group itself.  "
   ]
  },
  {
   "cell_type": "code",
   "execution_count": 39,
   "metadata": {},
   "outputs": [
    {
     "data": {
      "text/html": [
       "<div>\n",
       "<style scoped>\n",
       "    .dataframe tbody tr th:only-of-type {\n",
       "        vertical-align: middle;\n",
       "    }\n",
       "\n",
       "    .dataframe tbody tr th {\n",
       "        vertical-align: top;\n",
       "    }\n",
       "\n",
       "    .dataframe thead th {\n",
       "        text-align: right;\n",
       "    }\n",
       "</style>\n",
       "<table border=\"1\" class=\"dataframe\">\n",
       "  <thead>\n",
       "    <tr style=\"text-align: right;\">\n",
       "      <th></th>\n",
       "      <th>data1</th>\n",
       "      <th>data2</th>\n",
       "    </tr>\n",
       "    <tr>\n",
       "      <th>key1</th>\n",
       "      <th></th>\n",
       "      <th></th>\n",
       "    </tr>\n",
       "  </thead>\n",
       "  <tbody>\n",
       "    <tr>\n",
       "      <td>a</td>\n",
       "      <td>-0.667418</td>\n",
       "      <td>0.058799</td>\n",
       "    </tr>\n",
       "    <tr>\n",
       "      <td>b</td>\n",
       "      <td>0.720368</td>\n",
       "      <td>-0.240889</td>\n",
       "    </tr>\n",
       "  </tbody>\n",
       "</table>\n",
       "</div>"
      ],
      "text/plain": [
       "         data1     data2\n",
       "key1                    \n",
       "a    -0.667418  0.058799\n",
       "b     0.720368 -0.240889"
      ]
     },
     "execution_count": 39,
     "metadata": {},
     "output_type": "execute_result"
    }
   ],
   "source": [
    "k1g.mean()"
   ]
  },
  {
   "cell_type": "markdown",
   "metadata": {},
   "source": [
    "Let's look at what's inside of k1g:"
   ]
  },
  {
   "cell_type": "code",
   "execution_count": 40,
   "metadata": {},
   "outputs": [
    {
     "name": "stdout",
     "output_type": "stream",
     "text": [
      "name: a\n"
     ]
    },
    {
     "data": {
      "text/html": [
       "<div>\n",
       "<style scoped>\n",
       "    .dataframe tbody tr th:only-of-type {\n",
       "        vertical-align: middle;\n",
       "    }\n",
       "\n",
       "    .dataframe tbody tr th {\n",
       "        vertical-align: top;\n",
       "    }\n",
       "\n",
       "    .dataframe thead th {\n",
       "        text-align: right;\n",
       "    }\n",
       "</style>\n",
       "<table border=\"1\" class=\"dataframe\">\n",
       "  <thead>\n",
       "    <tr style=\"text-align: right;\">\n",
       "      <th></th>\n",
       "      <th>key1</th>\n",
       "      <th>key2</th>\n",
       "      <th>data1</th>\n",
       "      <th>data2</th>\n",
       "    </tr>\n",
       "  </thead>\n",
       "  <tbody>\n",
       "    <tr>\n",
       "      <td>0</td>\n",
       "      <td>a</td>\n",
       "      <td>one</td>\n",
       "      <td>0.240236</td>\n",
       "      <td>0.303708</td>\n",
       "    </tr>\n",
       "    <tr>\n",
       "      <td>1</td>\n",
       "      <td>a</td>\n",
       "      <td>two</td>\n",
       "      <td>0.053173</td>\n",
       "      <td>-0.341313</td>\n",
       "    </tr>\n",
       "    <tr>\n",
       "      <td>4</td>\n",
       "      <td>a</td>\n",
       "      <td>one</td>\n",
       "      <td>-2.295662</td>\n",
       "      <td>0.214001</td>\n",
       "    </tr>\n",
       "  </tbody>\n",
       "</table>\n",
       "</div>"
      ],
      "text/plain": [
       "  key1 key2     data1     data2\n",
       "0    a  one  0.240236  0.303708\n",
       "1    a  two  0.053173 -0.341313\n",
       "4    a  one -2.295662  0.214001"
      ]
     },
     "metadata": {},
     "output_type": "display_data"
    },
    {
     "name": "stdout",
     "output_type": "stream",
     "text": [
      "name: b\n"
     ]
    },
    {
     "data": {
      "text/html": [
       "<div>\n",
       "<style scoped>\n",
       "    .dataframe tbody tr th:only-of-type {\n",
       "        vertical-align: middle;\n",
       "    }\n",
       "\n",
       "    .dataframe tbody tr th {\n",
       "        vertical-align: top;\n",
       "    }\n",
       "\n",
       "    .dataframe thead th {\n",
       "        text-align: right;\n",
       "    }\n",
       "</style>\n",
       "<table border=\"1\" class=\"dataframe\">\n",
       "  <thead>\n",
       "    <tr style=\"text-align: right;\">\n",
       "      <th></th>\n",
       "      <th>key1</th>\n",
       "      <th>key2</th>\n",
       "      <th>data1</th>\n",
       "      <th>data2</th>\n",
       "    </tr>\n",
       "  </thead>\n",
       "  <tbody>\n",
       "    <tr>\n",
       "      <td>2</td>\n",
       "      <td>b</td>\n",
       "      <td>one</td>\n",
       "      <td>-0.150036</td>\n",
       "      <td>-1.689679</td>\n",
       "    </tr>\n",
       "    <tr>\n",
       "      <td>3</td>\n",
       "      <td>b</td>\n",
       "      <td>two</td>\n",
       "      <td>1.590772</td>\n",
       "      <td>1.207901</td>\n",
       "    </tr>\n",
       "  </tbody>\n",
       "</table>\n",
       "</div>"
      ],
      "text/plain": [
       "  key1 key2     data1     data2\n",
       "2    b  one -0.150036 -1.689679\n",
       "3    b  two  1.590772  1.207901"
      ]
     },
     "metadata": {},
     "output_type": "display_data"
    }
   ],
   "source": [
    "for n, g in k1g:\n",
    "    print('name:', n)\n",
    "    display(g)"
   ]
  },
  {
   "cell_type": "markdown",
   "metadata": {},
   "source": [
    "Where did column `key2` go in the mean above? It's a *nuisance column*, which gets automatically eliminated from an operation where it doesn't make sense (such as a numerical mean).\n",
    "\n",
    "### Grouping over a different dimension\n",
    "\n",
    "Above, we've been grouping data along the rows, using column keys as our selectors.  \n",
    "\n",
    "But we can also group along the *columns*, \n",
    "\n",
    "What's even more cool?  We can group by *data type*.\n",
    "\n",
    "Here we'll group along columns, by data type:"
   ]
  },
  {
   "cell_type": "code",
   "execution_count": 41,
   "metadata": {},
   "outputs": [
    {
     "data": {
      "text/plain": [
       "key1      object\n",
       "key2      object\n",
       "data1    float64\n",
       "data2    float64\n",
       "dtype: object"
      ]
     },
     "execution_count": 41,
     "metadata": {},
     "output_type": "execute_result"
    }
   ],
   "source": [
    "df.dtypes"
   ]
  },
  {
   "cell_type": "code",
   "execution_count": 42,
   "metadata": {},
   "outputs": [
    {
     "name": "stdout",
     "output_type": "stream",
     "text": [
      "float64\n"
     ]
    },
    {
     "data": {
      "text/html": [
       "<div>\n",
       "<style scoped>\n",
       "    .dataframe tbody tr th:only-of-type {\n",
       "        vertical-align: middle;\n",
       "    }\n",
       "\n",
       "    .dataframe tbody tr th {\n",
       "        vertical-align: top;\n",
       "    }\n",
       "\n",
       "    .dataframe thead th {\n",
       "        text-align: right;\n",
       "    }\n",
       "</style>\n",
       "<table border=\"1\" class=\"dataframe\">\n",
       "  <thead>\n",
       "    <tr style=\"text-align: right;\">\n",
       "      <th></th>\n",
       "      <th>data1</th>\n",
       "      <th>data2</th>\n",
       "    </tr>\n",
       "  </thead>\n",
       "  <tbody>\n",
       "    <tr>\n",
       "      <td>0</td>\n",
       "      <td>0.240236</td>\n",
       "      <td>0.303708</td>\n",
       "    </tr>\n",
       "    <tr>\n",
       "      <td>1</td>\n",
       "      <td>0.053173</td>\n",
       "      <td>-0.341313</td>\n",
       "    </tr>\n",
       "    <tr>\n",
       "      <td>2</td>\n",
       "      <td>-0.150036</td>\n",
       "      <td>-1.689679</td>\n",
       "    </tr>\n",
       "    <tr>\n",
       "      <td>3</td>\n",
       "      <td>1.590772</td>\n",
       "      <td>1.207901</td>\n",
       "    </tr>\n",
       "    <tr>\n",
       "      <td>4</td>\n",
       "      <td>-2.295662</td>\n",
       "      <td>0.214001</td>\n",
       "    </tr>\n",
       "  </tbody>\n",
       "</table>\n",
       "</div>"
      ],
      "text/plain": [
       "      data1     data2\n",
       "0  0.240236  0.303708\n",
       "1  0.053173 -0.341313\n",
       "2 -0.150036 -1.689679\n",
       "3  1.590772  1.207901\n",
       "4 -2.295662  0.214001"
      ]
     },
     "metadata": {},
     "output_type": "display_data"
    },
    {
     "name": "stdout",
     "output_type": "stream",
     "text": [
      "object\n"
     ]
    },
    {
     "data": {
      "text/html": [
       "<div>\n",
       "<style scoped>\n",
       "    .dataframe tbody tr th:only-of-type {\n",
       "        vertical-align: middle;\n",
       "    }\n",
       "\n",
       "    .dataframe tbody tr th {\n",
       "        vertical-align: top;\n",
       "    }\n",
       "\n",
       "    .dataframe thead th {\n",
       "        text-align: right;\n",
       "    }\n",
       "</style>\n",
       "<table border=\"1\" class=\"dataframe\">\n",
       "  <thead>\n",
       "    <tr style=\"text-align: right;\">\n",
       "      <th></th>\n",
       "      <th>key1</th>\n",
       "      <th>key2</th>\n",
       "    </tr>\n",
       "  </thead>\n",
       "  <tbody>\n",
       "    <tr>\n",
       "      <td>0</td>\n",
       "      <td>a</td>\n",
       "      <td>one</td>\n",
       "    </tr>\n",
       "    <tr>\n",
       "      <td>1</td>\n",
       "      <td>a</td>\n",
       "      <td>two</td>\n",
       "    </tr>\n",
       "    <tr>\n",
       "      <td>2</td>\n",
       "      <td>b</td>\n",
       "      <td>one</td>\n",
       "    </tr>\n",
       "    <tr>\n",
       "      <td>3</td>\n",
       "      <td>b</td>\n",
       "      <td>two</td>\n",
       "    </tr>\n",
       "    <tr>\n",
       "      <td>4</td>\n",
       "      <td>a</td>\n",
       "      <td>one</td>\n",
       "    </tr>\n",
       "  </tbody>\n",
       "</table>\n",
       "</div>"
      ],
      "text/plain": [
       "  key1 key2\n",
       "0    a  one\n",
       "1    a  two\n",
       "2    b  one\n",
       "3    b  two\n",
       "4    a  one"
      ]
     },
     "metadata": {},
     "output_type": "display_data"
    }
   ],
   "source": [
    "grouped = df.groupby(df.dtypes, axis=1)\n",
    "for dtype, group in grouped:\n",
    "    print(dtype)\n",
    "    display(group)"
   ]
  },
  {
   "cell_type": "markdown",
   "metadata": {},
   "source": [
    "## Using groupby to re-ask our question\n",
    "Which hour had the lowest average wind production?"
   ]
  },
  {
   "cell_type": "code",
   "execution_count": 43,
   "metadata": {},
   "outputs": [],
   "source": [
    "cds = pd.read_csv('CAISO_2017to2018_stack.csv', index_col= 0)"
   ]
  },
  {
   "cell_type": "code",
   "execution_count": 44,
   "metadata": {},
   "outputs": [
    {
     "data": {
      "text/html": [
       "<div>\n",
       "<style scoped>\n",
       "    .dataframe tbody tr th:only-of-type {\n",
       "        vertical-align: middle;\n",
       "    }\n",
       "\n",
       "    .dataframe tbody tr th {\n",
       "        vertical-align: top;\n",
       "    }\n",
       "\n",
       "    .dataframe thead th {\n",
       "        text-align: right;\n",
       "    }\n",
       "</style>\n",
       "<table border=\"1\" class=\"dataframe\">\n",
       "  <thead>\n",
       "    <tr style=\"text-align: right;\">\n",
       "      <th></th>\n",
       "      <th>Source</th>\n",
       "      <th>MWh</th>\n",
       "    </tr>\n",
       "  </thead>\n",
       "  <tbody>\n",
       "    <tr>\n",
       "      <td>2017-08-29 00:00:00</td>\n",
       "      <td>GEOTHERMAL</td>\n",
       "      <td>1181</td>\n",
       "    </tr>\n",
       "    <tr>\n",
       "      <td>2017-08-29 00:00:00</td>\n",
       "      <td>BIOMASS</td>\n",
       "      <td>340</td>\n",
       "    </tr>\n",
       "    <tr>\n",
       "      <td>2017-08-29 00:00:00</td>\n",
       "      <td>BIOGAS</td>\n",
       "      <td>156</td>\n",
       "    </tr>\n",
       "    <tr>\n",
       "      <td>2017-08-29 00:00:00</td>\n",
       "      <td>SMALL HYDRO</td>\n",
       "      <td>324</td>\n",
       "    </tr>\n",
       "    <tr>\n",
       "      <td>2017-08-29 00:00:00</td>\n",
       "      <td>WIND TOTAL</td>\n",
       "      <td>1551</td>\n",
       "    </tr>\n",
       "  </tbody>\n",
       "</table>\n",
       "</div>"
      ],
      "text/plain": [
       "                          Source   MWh\n",
       "2017-08-29 00:00:00   GEOTHERMAL  1181\n",
       "2017-08-29 00:00:00      BIOMASS   340\n",
       "2017-08-29 00:00:00       BIOGAS   156\n",
       "2017-08-29 00:00:00  SMALL HYDRO   324\n",
       "2017-08-29 00:00:00   WIND TOTAL  1551"
      ]
     },
     "execution_count": 44,
     "metadata": {},
     "output_type": "execute_result"
    }
   ],
   "source": [
    "cds.head()"
   ]
  },
  {
   "cell_type": "markdown",
   "metadata": {},
   "source": [
    "It will help to have a column of hour of day values:"
   ]
  },
  {
   "cell_type": "code",
   "execution_count": 45,
   "metadata": {},
   "outputs": [
    {
     "data": {
      "text/plain": [
       "pandas.core.indexes.datetimes.DatetimeIndex"
      ]
     },
     "execution_count": 45,
     "metadata": {},
     "output_type": "execute_result"
    }
   ],
   "source": [
    "cds_time = pd.to_datetime(cds.index)\n",
    "type(cds_time)"
   ]
  },
  {
   "cell_type": "markdown",
   "metadata": {},
   "source": [
    "Let's add that list of values into the data frame."
   ]
  },
  {
   "cell_type": "code",
   "execution_count": 46,
   "metadata": {},
   "outputs": [],
   "source": [
    "cds['hour'] = cds_time.hour"
   ]
  },
  {
   "cell_type": "code",
   "execution_count": 47,
   "metadata": {},
   "outputs": [
    {
     "data": {
      "text/html": [
       "<div>\n",
       "<style scoped>\n",
       "    .dataframe tbody tr th:only-of-type {\n",
       "        vertical-align: middle;\n",
       "    }\n",
       "\n",
       "    .dataframe tbody tr th {\n",
       "        vertical-align: top;\n",
       "    }\n",
       "\n",
       "    .dataframe thead th {\n",
       "        text-align: right;\n",
       "    }\n",
       "</style>\n",
       "<table border=\"1\" class=\"dataframe\">\n",
       "  <thead>\n",
       "    <tr style=\"text-align: right;\">\n",
       "      <th></th>\n",
       "      <th>Source</th>\n",
       "      <th>MWh</th>\n",
       "      <th>hour</th>\n",
       "    </tr>\n",
       "  </thead>\n",
       "  <tbody>\n",
       "    <tr>\n",
       "      <td>2017-08-29 00:00:00</td>\n",
       "      <td>GEOTHERMAL</td>\n",
       "      <td>1181</td>\n",
       "      <td>0</td>\n",
       "    </tr>\n",
       "    <tr>\n",
       "      <td>2017-08-29 00:00:00</td>\n",
       "      <td>BIOMASS</td>\n",
       "      <td>340</td>\n",
       "      <td>0</td>\n",
       "    </tr>\n",
       "    <tr>\n",
       "      <td>2017-08-29 00:00:00</td>\n",
       "      <td>BIOGAS</td>\n",
       "      <td>156</td>\n",
       "      <td>0</td>\n",
       "    </tr>\n",
       "    <tr>\n",
       "      <td>2017-08-29 00:00:00</td>\n",
       "      <td>SMALL HYDRO</td>\n",
       "      <td>324</td>\n",
       "      <td>0</td>\n",
       "    </tr>\n",
       "    <tr>\n",
       "      <td>2017-08-29 00:00:00</td>\n",
       "      <td>WIND TOTAL</td>\n",
       "      <td>1551</td>\n",
       "      <td>0</td>\n",
       "    </tr>\n",
       "    <tr>\n",
       "      <td>2017-08-29 00:00:00</td>\n",
       "      <td>SOLAR PV</td>\n",
       "      <td>0</td>\n",
       "      <td>0</td>\n",
       "    </tr>\n",
       "    <tr>\n",
       "      <td>2017-08-29 00:00:00</td>\n",
       "      <td>SOLAR THERMAL</td>\n",
       "      <td>0</td>\n",
       "      <td>0</td>\n",
       "    </tr>\n",
       "    <tr>\n",
       "      <td>2017-08-29 01:00:00</td>\n",
       "      <td>GEOTHERMAL</td>\n",
       "      <td>1182</td>\n",
       "      <td>1</td>\n",
       "    </tr>\n",
       "    <tr>\n",
       "      <td>2017-08-29 01:00:00</td>\n",
       "      <td>BIOMASS</td>\n",
       "      <td>338</td>\n",
       "      <td>1</td>\n",
       "    </tr>\n",
       "    <tr>\n",
       "      <td>2017-08-29 01:00:00</td>\n",
       "      <td>BIOGAS</td>\n",
       "      <td>156</td>\n",
       "      <td>1</td>\n",
       "    </tr>\n",
       "  </tbody>\n",
       "</table>\n",
       "</div>"
      ],
      "text/plain": [
       "                            Source   MWh  hour\n",
       "2017-08-29 00:00:00     GEOTHERMAL  1181     0\n",
       "2017-08-29 00:00:00        BIOMASS   340     0\n",
       "2017-08-29 00:00:00         BIOGAS   156     0\n",
       "2017-08-29 00:00:00    SMALL HYDRO   324     0\n",
       "2017-08-29 00:00:00     WIND TOTAL  1551     0\n",
       "2017-08-29 00:00:00       SOLAR PV     0     0\n",
       "2017-08-29 00:00:00  SOLAR THERMAL     0     0\n",
       "2017-08-29 01:00:00     GEOTHERMAL  1182     1\n",
       "2017-08-29 01:00:00        BIOMASS   338     1\n",
       "2017-08-29 01:00:00         BIOGAS   156     1"
      ]
     },
     "execution_count": 47,
     "metadata": {},
     "output_type": "execute_result"
    }
   ],
   "source": [
    "cds.head(10)"
   ]
  },
  {
   "cell_type": "markdown",
   "metadata": {},
   "source": [
    "Now do the grouping.\n",
    "\n",
    "See if you can do it yourself: we want to group MWh values by source AND hour."
   ]
  },
  {
   "cell_type": "code",
   "execution_count": 48,
   "metadata": {},
   "outputs": [],
   "source": [
    "cds_grouped = cds['MWh'].groupby([cds['Source'],cds['hour']])"
   ]
  },
  {
   "cell_type": "markdown",
   "metadata": {},
   "source": [
    "Now we can see *all* the means for all sources and hours.\n",
    "\n",
    "Didn't need to do any fancy logical indexing or looping!"
   ]
  },
  {
   "cell_type": "code",
   "execution_count": 49,
   "metadata": {},
   "outputs": [
    {
     "data": {
      "text/plain": [
       "Source      hour\n",
       "BIOGAS      0        225.591781\n",
       "            1        225.964384\n",
       "            2        225.953425\n",
       "            3        225.887671\n",
       "            4        225.753425\n",
       "                       ...     \n",
       "WIND TOTAL  19      2181.361644\n",
       "            20      2229.408219\n",
       "            21      2231.687671\n",
       "            22      2220.109589\n",
       "            23      2216.526027\n",
       "Name: MWh, Length: 168, dtype: float64"
      ]
     },
     "execution_count": 49,
     "metadata": {},
     "output_type": "execute_result"
    }
   ],
   "source": [
    "cds_grouped.mean()"
   ]
  },
  {
   "cell_type": "markdown",
   "metadata": {},
   "source": [
    "Now it would be nice to see that information in a dataframe, wouldn't it?"
   ]
  },
  {
   "cell_type": "code",
   "execution_count": 50,
   "metadata": {},
   "outputs": [],
   "source": [
    "averages = pd.DataFrame(cds_grouped.mean())"
   ]
  },
  {
   "cell_type": "code",
   "execution_count": 51,
   "metadata": {},
   "outputs": [
    {
     "data": {
      "text/html": [
       "<div>\n",
       "<style scoped>\n",
       "    .dataframe tbody tr th:only-of-type {\n",
       "        vertical-align: middle;\n",
       "    }\n",
       "\n",
       "    .dataframe tbody tr th {\n",
       "        vertical-align: top;\n",
       "    }\n",
       "\n",
       "    .dataframe thead th {\n",
       "        text-align: right;\n",
       "    }\n",
       "</style>\n",
       "<table border=\"1\" class=\"dataframe\">\n",
       "  <thead>\n",
       "    <tr style=\"text-align: right;\">\n",
       "      <th></th>\n",
       "      <th></th>\n",
       "      <th>MWh</th>\n",
       "    </tr>\n",
       "    <tr>\n",
       "      <th>Source</th>\n",
       "      <th>hour</th>\n",
       "      <th></th>\n",
       "    </tr>\n",
       "  </thead>\n",
       "  <tbody>\n",
       "    <tr>\n",
       "      <td rowspan=\"5\" valign=\"top\">BIOGAS</td>\n",
       "      <td>0</td>\n",
       "      <td>225.591781</td>\n",
       "    </tr>\n",
       "    <tr>\n",
       "      <td>1</td>\n",
       "      <td>225.964384</td>\n",
       "    </tr>\n",
       "    <tr>\n",
       "      <td>2</td>\n",
       "      <td>225.953425</td>\n",
       "    </tr>\n",
       "    <tr>\n",
       "      <td>3</td>\n",
       "      <td>225.887671</td>\n",
       "    </tr>\n",
       "    <tr>\n",
       "      <td>4</td>\n",
       "      <td>225.753425</td>\n",
       "    </tr>\n",
       "    <tr>\n",
       "      <td>...</td>\n",
       "      <td>...</td>\n",
       "      <td>...</td>\n",
       "    </tr>\n",
       "    <tr>\n",
       "      <td rowspan=\"5\" valign=\"top\">WIND TOTAL</td>\n",
       "      <td>19</td>\n",
       "      <td>2181.361644</td>\n",
       "    </tr>\n",
       "    <tr>\n",
       "      <td>20</td>\n",
       "      <td>2229.408219</td>\n",
       "    </tr>\n",
       "    <tr>\n",
       "      <td>21</td>\n",
       "      <td>2231.687671</td>\n",
       "    </tr>\n",
       "    <tr>\n",
       "      <td>22</td>\n",
       "      <td>2220.109589</td>\n",
       "    </tr>\n",
       "    <tr>\n",
       "      <td>23</td>\n",
       "      <td>2216.526027</td>\n",
       "    </tr>\n",
       "  </tbody>\n",
       "</table>\n",
       "<p>168 rows × 1 columns</p>\n",
       "</div>"
      ],
      "text/plain": [
       "                         MWh\n",
       "Source     hour             \n",
       "BIOGAS     0      225.591781\n",
       "           1      225.964384\n",
       "           2      225.953425\n",
       "           3      225.887671\n",
       "           4      225.753425\n",
       "...                      ...\n",
       "WIND TOTAL 19    2181.361644\n",
       "           20    2229.408219\n",
       "           21    2231.687671\n",
       "           22    2220.109589\n",
       "           23    2216.526027\n",
       "\n",
       "[168 rows x 1 columns]"
      ]
     },
     "execution_count": 51,
     "metadata": {},
     "output_type": "execute_result"
    }
   ],
   "source": [
    "averages"
   ]
  },
  {
   "cell_type": "markdown",
   "metadata": {},
   "source": [
    "And lo and behold, we have a multilevel index for the rows!"
   ]
  },
  {
   "cell_type": "code",
   "execution_count": 52,
   "metadata": {},
   "outputs": [
    {
     "data": {
      "text/html": [
       "<div>\n",
       "<style scoped>\n",
       "    .dataframe tbody tr th:only-of-type {\n",
       "        vertical-align: middle;\n",
       "    }\n",
       "\n",
       "    .dataframe tbody tr th {\n",
       "        vertical-align: top;\n",
       "    }\n",
       "\n",
       "    .dataframe thead th {\n",
       "        text-align: right;\n",
       "    }\n",
       "</style>\n",
       "<table border=\"1\" class=\"dataframe\">\n",
       "  <thead>\n",
       "    <tr style=\"text-align: right;\">\n",
       "      <th></th>\n",
       "      <th>MWh</th>\n",
       "    </tr>\n",
       "    <tr>\n",
       "      <th>hour</th>\n",
       "      <th></th>\n",
       "    </tr>\n",
       "  </thead>\n",
       "  <tbody>\n",
       "    <tr>\n",
       "      <td>0</td>\n",
       "      <td>2173.268493</td>\n",
       "    </tr>\n",
       "    <tr>\n",
       "      <td>1</td>\n",
       "      <td>2120.778082</td>\n",
       "    </tr>\n",
       "    <tr>\n",
       "      <td>2</td>\n",
       "      <td>2051.832877</td>\n",
       "    </tr>\n",
       "    <tr>\n",
       "      <td>3</td>\n",
       "      <td>1973.969863</td>\n",
       "    </tr>\n",
       "    <tr>\n",
       "      <td>4</td>\n",
       "      <td>1881.463014</td>\n",
       "    </tr>\n",
       "    <tr>\n",
       "      <td>5</td>\n",
       "      <td>1772.484932</td>\n",
       "    </tr>\n",
       "    <tr>\n",
       "      <td>6</td>\n",
       "      <td>1646.630137</td>\n",
       "    </tr>\n",
       "    <tr>\n",
       "      <td>7</td>\n",
       "      <td>1490.194521</td>\n",
       "    </tr>\n",
       "    <tr>\n",
       "      <td>8</td>\n",
       "      <td>1363.402740</td>\n",
       "    </tr>\n",
       "    <tr>\n",
       "      <td>9</td>\n",
       "      <td>1290.512329</td>\n",
       "    </tr>\n",
       "    <tr>\n",
       "      <td>10</td>\n",
       "      <td>1250.408219</td>\n",
       "    </tr>\n",
       "    <tr>\n",
       "      <td>11</td>\n",
       "      <td>1247.643836</td>\n",
       "    </tr>\n",
       "    <tr>\n",
       "      <td>12</td>\n",
       "      <td>1308.287671</td>\n",
       "    </tr>\n",
       "    <tr>\n",
       "      <td>13</td>\n",
       "      <td>1412.410959</td>\n",
       "    </tr>\n",
       "    <tr>\n",
       "      <td>14</td>\n",
       "      <td>1561.602740</td>\n",
       "    </tr>\n",
       "    <tr>\n",
       "      <td>15</td>\n",
       "      <td>1726.652055</td>\n",
       "    </tr>\n",
       "    <tr>\n",
       "      <td>16</td>\n",
       "      <td>1878.441096</td>\n",
       "    </tr>\n",
       "    <tr>\n",
       "      <td>17</td>\n",
       "      <td>2005.934247</td>\n",
       "    </tr>\n",
       "    <tr>\n",
       "      <td>18</td>\n",
       "      <td>2109.093151</td>\n",
       "    </tr>\n",
       "    <tr>\n",
       "      <td>19</td>\n",
       "      <td>2181.361644</td>\n",
       "    </tr>\n",
       "    <tr>\n",
       "      <td>20</td>\n",
       "      <td>2229.408219</td>\n",
       "    </tr>\n",
       "    <tr>\n",
       "      <td>21</td>\n",
       "      <td>2231.687671</td>\n",
       "    </tr>\n",
       "    <tr>\n",
       "      <td>22</td>\n",
       "      <td>2220.109589</td>\n",
       "    </tr>\n",
       "    <tr>\n",
       "      <td>23</td>\n",
       "      <td>2216.526027</td>\n",
       "    </tr>\n",
       "  </tbody>\n",
       "</table>\n",
       "</div>"
      ],
      "text/plain": [
       "              MWh\n",
       "hour             \n",
       "0     2173.268493\n",
       "1     2120.778082\n",
       "2     2051.832877\n",
       "3     1973.969863\n",
       "4     1881.463014\n",
       "5     1772.484932\n",
       "6     1646.630137\n",
       "7     1490.194521\n",
       "8     1363.402740\n",
       "9     1290.512329\n",
       "10    1250.408219\n",
       "11    1247.643836\n",
       "12    1308.287671\n",
       "13    1412.410959\n",
       "14    1561.602740\n",
       "15    1726.652055\n",
       "16    1878.441096\n",
       "17    2005.934247\n",
       "18    2109.093151\n",
       "19    2181.361644\n",
       "20    2229.408219\n",
       "21    2231.687671\n",
       "22    2220.109589\n",
       "23    2216.526027"
      ]
     },
     "execution_count": 52,
     "metadata": {},
     "output_type": "execute_result"
    }
   ],
   "source": [
    "averages.loc[('WIND TOTAL',),:]"
   ]
  },
  {
   "cell_type": "markdown",
   "metadata": {},
   "source": [
    "But now we can look at other sources"
   ]
  },
  {
   "cell_type": "code",
   "execution_count": 53,
   "metadata": {},
   "outputs": [
    {
     "data": {
      "text/html": [
       "<div>\n",
       "<style scoped>\n",
       "    .dataframe tbody tr th:only-of-type {\n",
       "        vertical-align: middle;\n",
       "    }\n",
       "\n",
       "    .dataframe tbody tr th {\n",
       "        vertical-align: top;\n",
       "    }\n",
       "\n",
       "    .dataframe thead th {\n",
       "        text-align: right;\n",
       "    }\n",
       "</style>\n",
       "<table border=\"1\" class=\"dataframe\">\n",
       "  <thead>\n",
       "    <tr style=\"text-align: right;\">\n",
       "      <th></th>\n",
       "      <th>MWh</th>\n",
       "    </tr>\n",
       "    <tr>\n",
       "      <th>hour</th>\n",
       "      <th></th>\n",
       "    </tr>\n",
       "  </thead>\n",
       "  <tbody>\n",
       "    <tr>\n",
       "      <td>0</td>\n",
       "      <td>330.824658</td>\n",
       "    </tr>\n",
       "    <tr>\n",
       "      <td>1</td>\n",
       "      <td>322.421918</td>\n",
       "    </tr>\n",
       "    <tr>\n",
       "      <td>2</td>\n",
       "      <td>318.249315</td>\n",
       "    </tr>\n",
       "    <tr>\n",
       "      <td>3</td>\n",
       "      <td>316.909589</td>\n",
       "    </tr>\n",
       "    <tr>\n",
       "      <td>4</td>\n",
       "      <td>322.254795</td>\n",
       "    </tr>\n",
       "    <tr>\n",
       "      <td>5</td>\n",
       "      <td>375.180822</td>\n",
       "    </tr>\n",
       "    <tr>\n",
       "      <td>6</td>\n",
       "      <td>426.931507</td>\n",
       "    </tr>\n",
       "    <tr>\n",
       "      <td>7</td>\n",
       "      <td>422.564384</td>\n",
       "    </tr>\n",
       "    <tr>\n",
       "      <td>8</td>\n",
       "      <td>376.813699</td>\n",
       "    </tr>\n",
       "    <tr>\n",
       "      <td>9</td>\n",
       "      <td>343.756164</td>\n",
       "    </tr>\n",
       "    <tr>\n",
       "      <td>10</td>\n",
       "      <td>336.980822</td>\n",
       "    </tr>\n",
       "    <tr>\n",
       "      <td>11</td>\n",
       "      <td>338.473973</td>\n",
       "    </tr>\n",
       "    <tr>\n",
       "      <td>12</td>\n",
       "      <td>346.378082</td>\n",
       "    </tr>\n",
       "    <tr>\n",
       "      <td>13</td>\n",
       "      <td>353.904110</td>\n",
       "    </tr>\n",
       "    <tr>\n",
       "      <td>14</td>\n",
       "      <td>362.726027</td>\n",
       "    </tr>\n",
       "    <tr>\n",
       "      <td>15</td>\n",
       "      <td>397.095890</td>\n",
       "    </tr>\n",
       "    <tr>\n",
       "      <td>16</td>\n",
       "      <td>448.476712</td>\n",
       "    </tr>\n",
       "    <tr>\n",
       "      <td>17</td>\n",
       "      <td>497.013699</td>\n",
       "    </tr>\n",
       "    <tr>\n",
       "      <td>18</td>\n",
       "      <td>524.641096</td>\n",
       "    </tr>\n",
       "    <tr>\n",
       "      <td>19</td>\n",
       "      <td>531.112329</td>\n",
       "    </tr>\n",
       "    <tr>\n",
       "      <td>20</td>\n",
       "      <td>515.457534</td>\n",
       "    </tr>\n",
       "    <tr>\n",
       "      <td>21</td>\n",
       "      <td>474.386301</td>\n",
       "    </tr>\n",
       "    <tr>\n",
       "      <td>22</td>\n",
       "      <td>423.049315</td>\n",
       "    </tr>\n",
       "    <tr>\n",
       "      <td>23</td>\n",
       "      <td>372.060274</td>\n",
       "    </tr>\n",
       "  </tbody>\n",
       "</table>\n",
       "</div>"
      ],
      "text/plain": [
       "             MWh\n",
       "hour            \n",
       "0     330.824658\n",
       "1     322.421918\n",
       "2     318.249315\n",
       "3     316.909589\n",
       "4     322.254795\n",
       "5     375.180822\n",
       "6     426.931507\n",
       "7     422.564384\n",
       "8     376.813699\n",
       "9     343.756164\n",
       "10    336.980822\n",
       "11    338.473973\n",
       "12    346.378082\n",
       "13    353.904110\n",
       "14    362.726027\n",
       "15    397.095890\n",
       "16    448.476712\n",
       "17    497.013699\n",
       "18    524.641096\n",
       "19    531.112329\n",
       "20    515.457534\n",
       "21    474.386301\n",
       "22    423.049315\n",
       "23    372.060274"
      ]
     },
     "execution_count": 53,
     "metadata": {},
     "output_type": "execute_result"
    }
   ],
   "source": [
    "averages.loc[('SMALL HYDRO',),:]"
   ]
  },
  {
   "cell_type": "code",
   "execution_count": 54,
   "metadata": {},
   "outputs": [
    {
     "ename": "NameError",
     "evalue": "name 'plt' is not defined",
     "output_type": "error",
     "traceback": [
      "\u001b[0;31m---------------------------------------------------------------------------\u001b[0m",
      "\u001b[0;31mNameError\u001b[0m                                 Traceback (most recent call last)",
      "\u001b[0;32m<ipython-input-54-d6dcc3b533fa>\u001b[0m in \u001b[0;36m<module>\u001b[0;34m\u001b[0m\n\u001b[0;32m----> 1\u001b[0;31m \u001b[0mplt\u001b[0m\u001b[0;34m.\u001b[0m\u001b[0mplot\u001b[0m\u001b[0;34m(\u001b[0m\u001b[0maverages\u001b[0m\u001b[0;34m.\u001b[0m\u001b[0mloc\u001b[0m\u001b[0;34m[\u001b[0m\u001b[0;34m(\u001b[0m\u001b[0;34m'SMALL HYDRO'\u001b[0m\u001b[0;34m,\u001b[0m\u001b[0;34m)\u001b[0m\u001b[0;34m,\u001b[0m\u001b[0;34m:\u001b[0m\u001b[0;34m]\u001b[0m\u001b[0;34m)\u001b[0m\u001b[0;34m\u001b[0m\u001b[0;34m\u001b[0m\u001b[0m\n\u001b[0m",
      "\u001b[0;31mNameError\u001b[0m: name 'plt' is not defined"
     ]
    }
   ],
   "source": [
    "plt.plot(averages.loc[('SMALL HYDRO',),:])"
   ]
  },
  {
   "cell_type": "code",
   "execution_count": 55,
   "metadata": {},
   "outputs": [
    {
     "ename": "NameError",
     "evalue": "name 'plt' is not defined",
     "output_type": "error",
     "traceback": [
      "\u001b[0;31m---------------------------------------------------------------------------\u001b[0m",
      "\u001b[0;31mNameError\u001b[0m                                 Traceback (most recent call last)",
      "\u001b[0;32m<ipython-input-55-9e3b370727fd>\u001b[0m in \u001b[0;36m<module>\u001b[0;34m\u001b[0m\n\u001b[0;32m----> 1\u001b[0;31m \u001b[0mplt\u001b[0m\u001b[0;34m.\u001b[0m\u001b[0mplot\u001b[0m\u001b[0;34m(\u001b[0m\u001b[0maverages\u001b[0m\u001b[0;34m.\u001b[0m\u001b[0mloc\u001b[0m\u001b[0;34m[\u001b[0m\u001b[0;34m(\u001b[0m\u001b[0;34m'GEOTHERMAL'\u001b[0m\u001b[0;34m,\u001b[0m\u001b[0;34m)\u001b[0m\u001b[0;34m,\u001b[0m\u001b[0;34m:\u001b[0m\u001b[0;34m]\u001b[0m\u001b[0;34m)\u001b[0m\u001b[0;34m\u001b[0m\u001b[0;34m\u001b[0m\u001b[0m\n\u001b[0m",
      "\u001b[0;31mNameError\u001b[0m: name 'plt' is not defined"
     ]
    }
   ],
   "source": [
    "plt.plot(averages.loc[('GEOTHERMAL',),:])"
   ]
  },
  {
   "cell_type": "code",
   "execution_count": 56,
   "metadata": {
    "scrolled": true
   },
   "outputs": [
    {
     "ename": "NameError",
     "evalue": "name 'plt' is not defined",
     "output_type": "error",
     "traceback": [
      "\u001b[0;31m---------------------------------------------------------------------------\u001b[0m",
      "\u001b[0;31mNameError\u001b[0m                                 Traceback (most recent call last)",
      "\u001b[0;32m<ipython-input-56-637b3580aadf>\u001b[0m in \u001b[0;36m<module>\u001b[0;34m\u001b[0m\n\u001b[0;32m----> 1\u001b[0;31m \u001b[0mplt\u001b[0m\u001b[0;34m.\u001b[0m\u001b[0mplot\u001b[0m\u001b[0;34m(\u001b[0m\u001b[0maverages\u001b[0m\u001b[0;34m.\u001b[0m\u001b[0mloc\u001b[0m\u001b[0;34m[\u001b[0m\u001b[0;34m(\u001b[0m\u001b[0;34m'SOLAR PV'\u001b[0m\u001b[0;34m,\u001b[0m\u001b[0;34m)\u001b[0m\u001b[0;34m,\u001b[0m\u001b[0;34m:\u001b[0m\u001b[0;34m]\u001b[0m\u001b[0;34m)\u001b[0m\u001b[0;34m\u001b[0m\u001b[0;34m\u001b[0m\u001b[0m\n\u001b[0m",
      "\u001b[0;31mNameError\u001b[0m: name 'plt' is not defined"
     ]
    }
   ],
   "source": [
    "plt.plot(averages.loc[('SOLAR PV',),:])"
   ]
  },
  {
   "cell_type": "markdown",
   "metadata": {},
   "source": [
    "## Pivot\n",
    "\n",
    "Pivot is used to examine aggregates with respect to two characteristics.  You might construct a pivot of sales data if you wanted to look at average sales broken down by year and market.  \n"
   ]
  },
  {
   "cell_type": "markdown",
   "metadata": {},
   "source": [
    "The pivot operation is essentially a `groupby` operation that transforms the rows *and the columns.*  "
   ]
  },
  {
   "cell_type": "code",
   "execution_count": 57,
   "metadata": {
    "ExecuteTime": {
     "end_time": "2018-01-29T01:36:32.858042Z",
     "start_time": "2018-01-29T01:36:32.836499Z"
    }
   },
   "outputs": [
    {
     "data": {
      "text/html": [
       "<div>\n",
       "<style scoped>\n",
       "    .dataframe tbody tr th:only-of-type {\n",
       "        vertical-align: middle;\n",
       "    }\n",
       "\n",
       "    .dataframe tbody tr th {\n",
       "        vertical-align: top;\n",
       "    }\n",
       "\n",
       "    .dataframe thead th {\n",
       "        text-align: right;\n",
       "    }\n",
       "</style>\n",
       "<table border=\"1\" class=\"dataframe\">\n",
       "  <thead>\n",
       "    <tr style=\"text-align: right;\">\n",
       "      <th>Source</th>\n",
       "      <th>BIOGAS</th>\n",
       "      <th>BIOMASS</th>\n",
       "      <th>GEOTHERMAL</th>\n",
       "      <th>SMALL HYDRO</th>\n",
       "      <th>SOLAR PV</th>\n",
       "      <th>SOLAR THERMAL</th>\n",
       "      <th>WIND TOTAL</th>\n",
       "    </tr>\n",
       "    <tr>\n",
       "      <th>hour</th>\n",
       "      <th></th>\n",
       "      <th></th>\n",
       "      <th></th>\n",
       "      <th></th>\n",
       "      <th></th>\n",
       "      <th></th>\n",
       "      <th></th>\n",
       "    </tr>\n",
       "  </thead>\n",
       "  <tbody>\n",
       "    <tr>\n",
       "      <td>0</td>\n",
       "      <td>225.591781</td>\n",
       "      <td>318.301370</td>\n",
       "      <td>958.720548</td>\n",
       "      <td>330.824658</td>\n",
       "      <td>0.679452</td>\n",
       "      <td>0.000000</td>\n",
       "      <td>2173.268493</td>\n",
       "    </tr>\n",
       "    <tr>\n",
       "      <td>1</td>\n",
       "      <td>225.964384</td>\n",
       "      <td>318.369863</td>\n",
       "      <td>959.235616</td>\n",
       "      <td>322.421918</td>\n",
       "      <td>0.643836</td>\n",
       "      <td>0.000000</td>\n",
       "      <td>2120.778082</td>\n",
       "    </tr>\n",
       "    <tr>\n",
       "      <td>2</td>\n",
       "      <td>225.953425</td>\n",
       "      <td>319.846575</td>\n",
       "      <td>959.367123</td>\n",
       "      <td>318.249315</td>\n",
       "      <td>0.635616</td>\n",
       "      <td>0.000000</td>\n",
       "      <td>2051.832877</td>\n",
       "    </tr>\n",
       "    <tr>\n",
       "      <td>3</td>\n",
       "      <td>225.887671</td>\n",
       "      <td>320.567123</td>\n",
       "      <td>958.367123</td>\n",
       "      <td>316.909589</td>\n",
       "      <td>0.419178</td>\n",
       "      <td>0.000000</td>\n",
       "      <td>1973.969863</td>\n",
       "    </tr>\n",
       "    <tr>\n",
       "      <td>4</td>\n",
       "      <td>225.753425</td>\n",
       "      <td>321.742466</td>\n",
       "      <td>956.347945</td>\n",
       "      <td>322.254795</td>\n",
       "      <td>0.413699</td>\n",
       "      <td>0.000000</td>\n",
       "      <td>1881.463014</td>\n",
       "    </tr>\n",
       "    <tr>\n",
       "      <td>5</td>\n",
       "      <td>225.243836</td>\n",
       "      <td>323.863014</td>\n",
       "      <td>956.230137</td>\n",
       "      <td>375.180822</td>\n",
       "      <td>0.482192</td>\n",
       "      <td>0.021918</td>\n",
       "      <td>1772.484932</td>\n",
       "    </tr>\n",
       "    <tr>\n",
       "      <td>6</td>\n",
       "      <td>224.479452</td>\n",
       "      <td>330.808219</td>\n",
       "      <td>955.682192</td>\n",
       "      <td>426.931507</td>\n",
       "      <td>352.956164</td>\n",
       "      <td>4.372603</td>\n",
       "      <td>1646.630137</td>\n",
       "    </tr>\n",
       "    <tr>\n",
       "      <td>7</td>\n",
       "      <td>222.454795</td>\n",
       "      <td>333.178082</td>\n",
       "      <td>953.263014</td>\n",
       "      <td>422.564384</td>\n",
       "      <td>2489.268493</td>\n",
       "      <td>58.317808</td>\n",
       "      <td>1490.194521</td>\n",
       "    </tr>\n",
       "    <tr>\n",
       "      <td>8</td>\n",
       "      <td>221.536986</td>\n",
       "      <td>333.936986</td>\n",
       "      <td>949.024658</td>\n",
       "      <td>376.813699</td>\n",
       "      <td>5552.531507</td>\n",
       "      <td>208.106849</td>\n",
       "      <td>1363.402740</td>\n",
       "    </tr>\n",
       "    <tr>\n",
       "      <td>9</td>\n",
       "      <td>221.539726</td>\n",
       "      <td>332.273973</td>\n",
       "      <td>946.210959</td>\n",
       "      <td>343.756164</td>\n",
       "      <td>7174.468493</td>\n",
       "      <td>316.841096</td>\n",
       "      <td>1290.512329</td>\n",
       "    </tr>\n",
       "    <tr>\n",
       "      <td>10</td>\n",
       "      <td>221.408219</td>\n",
       "      <td>330.134247</td>\n",
       "      <td>943.405479</td>\n",
       "      <td>336.980822</td>\n",
       "      <td>7829.561644</td>\n",
       "      <td>355.441096</td>\n",
       "      <td>1250.408219</td>\n",
       "    </tr>\n",
       "    <tr>\n",
       "      <td>11</td>\n",
       "      <td>221.802740</td>\n",
       "      <td>329.369863</td>\n",
       "      <td>938.967123</td>\n",
       "      <td>338.473973</td>\n",
       "      <td>8047.476712</td>\n",
       "      <td>368.904110</td>\n",
       "      <td>1247.643836</td>\n",
       "    </tr>\n",
       "    <tr>\n",
       "      <td>12</td>\n",
       "      <td>222.731507</td>\n",
       "      <td>330.736986</td>\n",
       "      <td>936.627397</td>\n",
       "      <td>346.378082</td>\n",
       "      <td>8080.778082</td>\n",
       "      <td>369.643836</td>\n",
       "      <td>1308.287671</td>\n",
       "    </tr>\n",
       "    <tr>\n",
       "      <td>13</td>\n",
       "      <td>223.290411</td>\n",
       "      <td>332.043836</td>\n",
       "      <td>936.600000</td>\n",
       "      <td>353.904110</td>\n",
       "      <td>7985.413699</td>\n",
       "      <td>356.778082</td>\n",
       "      <td>1412.410959</td>\n",
       "    </tr>\n",
       "    <tr>\n",
       "      <td>14</td>\n",
       "      <td>223.465753</td>\n",
       "      <td>333.649315</td>\n",
       "      <td>935.613699</td>\n",
       "      <td>362.726027</td>\n",
       "      <td>7619.213699</td>\n",
       "      <td>337.479452</td>\n",
       "      <td>1561.602740</td>\n",
       "    </tr>\n",
       "    <tr>\n",
       "      <td>15</td>\n",
       "      <td>223.717808</td>\n",
       "      <td>335.821918</td>\n",
       "      <td>935.564384</td>\n",
       "      <td>397.095890</td>\n",
       "      <td>6639.180822</td>\n",
       "      <td>304.389041</td>\n",
       "      <td>1726.652055</td>\n",
       "    </tr>\n",
       "    <tr>\n",
       "      <td>16</td>\n",
       "      <td>224.342466</td>\n",
       "      <td>338.265753</td>\n",
       "      <td>937.736986</td>\n",
       "      <td>448.476712</td>\n",
       "      <td>5025.484932</td>\n",
       "      <td>247.583562</td>\n",
       "      <td>1878.441096</td>\n",
       "    </tr>\n",
       "    <tr>\n",
       "      <td>17</td>\n",
       "      <td>224.767123</td>\n",
       "      <td>337.016438</td>\n",
       "      <td>940.526027</td>\n",
       "      <td>497.013699</td>\n",
       "      <td>3299.101370</td>\n",
       "      <td>185.915068</td>\n",
       "      <td>2005.934247</td>\n",
       "    </tr>\n",
       "    <tr>\n",
       "      <td>18</td>\n",
       "      <td>225.473973</td>\n",
       "      <td>337.273973</td>\n",
       "      <td>946.139726</td>\n",
       "      <td>524.641096</td>\n",
       "      <td>1412.446575</td>\n",
       "      <td>85.958904</td>\n",
       "      <td>2109.093151</td>\n",
       "    </tr>\n",
       "    <tr>\n",
       "      <td>19</td>\n",
       "      <td>226.136986</td>\n",
       "      <td>337.273973</td>\n",
       "      <td>950.232877</td>\n",
       "      <td>531.112329</td>\n",
       "      <td>210.783562</td>\n",
       "      <td>10.364384</td>\n",
       "      <td>2181.361644</td>\n",
       "    </tr>\n",
       "    <tr>\n",
       "      <td>20</td>\n",
       "      <td>225.958904</td>\n",
       "      <td>334.961644</td>\n",
       "      <td>953.882192</td>\n",
       "      <td>515.457534</td>\n",
       "      <td>4.750685</td>\n",
       "      <td>1.279452</td>\n",
       "      <td>2229.408219</td>\n",
       "    </tr>\n",
       "    <tr>\n",
       "      <td>21</td>\n",
       "      <td>225.797260</td>\n",
       "      <td>331.964384</td>\n",
       "      <td>956.684932</td>\n",
       "      <td>474.386301</td>\n",
       "      <td>1.542466</td>\n",
       "      <td>0.539726</td>\n",
       "      <td>2231.687671</td>\n",
       "    </tr>\n",
       "    <tr>\n",
       "      <td>22</td>\n",
       "      <td>225.430137</td>\n",
       "      <td>321.104110</td>\n",
       "      <td>958.164384</td>\n",
       "      <td>423.049315</td>\n",
       "      <td>1.312329</td>\n",
       "      <td>0.136986</td>\n",
       "      <td>2220.109589</td>\n",
       "    </tr>\n",
       "    <tr>\n",
       "      <td>23</td>\n",
       "      <td>225.498630</td>\n",
       "      <td>318.375342</td>\n",
       "      <td>958.898630</td>\n",
       "      <td>372.060274</td>\n",
       "      <td>1.046575</td>\n",
       "      <td>0.104110</td>\n",
       "      <td>2216.526027</td>\n",
       "    </tr>\n",
       "  </tbody>\n",
       "</table>\n",
       "</div>"
      ],
      "text/plain": [
       "Source      BIOGAS     BIOMASS  GEOTHERMAL  SMALL HYDRO     SOLAR PV  \\\n",
       "hour                                                                   \n",
       "0       225.591781  318.301370  958.720548   330.824658     0.679452   \n",
       "1       225.964384  318.369863  959.235616   322.421918     0.643836   \n",
       "2       225.953425  319.846575  959.367123   318.249315     0.635616   \n",
       "3       225.887671  320.567123  958.367123   316.909589     0.419178   \n",
       "4       225.753425  321.742466  956.347945   322.254795     0.413699   \n",
       "5       225.243836  323.863014  956.230137   375.180822     0.482192   \n",
       "6       224.479452  330.808219  955.682192   426.931507   352.956164   \n",
       "7       222.454795  333.178082  953.263014   422.564384  2489.268493   \n",
       "8       221.536986  333.936986  949.024658   376.813699  5552.531507   \n",
       "9       221.539726  332.273973  946.210959   343.756164  7174.468493   \n",
       "10      221.408219  330.134247  943.405479   336.980822  7829.561644   \n",
       "11      221.802740  329.369863  938.967123   338.473973  8047.476712   \n",
       "12      222.731507  330.736986  936.627397   346.378082  8080.778082   \n",
       "13      223.290411  332.043836  936.600000   353.904110  7985.413699   \n",
       "14      223.465753  333.649315  935.613699   362.726027  7619.213699   \n",
       "15      223.717808  335.821918  935.564384   397.095890  6639.180822   \n",
       "16      224.342466  338.265753  937.736986   448.476712  5025.484932   \n",
       "17      224.767123  337.016438  940.526027   497.013699  3299.101370   \n",
       "18      225.473973  337.273973  946.139726   524.641096  1412.446575   \n",
       "19      226.136986  337.273973  950.232877   531.112329   210.783562   \n",
       "20      225.958904  334.961644  953.882192   515.457534     4.750685   \n",
       "21      225.797260  331.964384  956.684932   474.386301     1.542466   \n",
       "22      225.430137  321.104110  958.164384   423.049315     1.312329   \n",
       "23      225.498630  318.375342  958.898630   372.060274     1.046575   \n",
       "\n",
       "Source  SOLAR THERMAL   WIND TOTAL  \n",
       "hour                                \n",
       "0            0.000000  2173.268493  \n",
       "1            0.000000  2120.778082  \n",
       "2            0.000000  2051.832877  \n",
       "3            0.000000  1973.969863  \n",
       "4            0.000000  1881.463014  \n",
       "5            0.021918  1772.484932  \n",
       "6            4.372603  1646.630137  \n",
       "7           58.317808  1490.194521  \n",
       "8          208.106849  1363.402740  \n",
       "9          316.841096  1290.512329  \n",
       "10         355.441096  1250.408219  \n",
       "11         368.904110  1247.643836  \n",
       "12         369.643836  1308.287671  \n",
       "13         356.778082  1412.410959  \n",
       "14         337.479452  1561.602740  \n",
       "15         304.389041  1726.652055  \n",
       "16         247.583562  1878.441096  \n",
       "17         185.915068  2005.934247  \n",
       "18          85.958904  2109.093151  \n",
       "19          10.364384  2181.361644  \n",
       "20           1.279452  2229.408219  \n",
       "21           0.539726  2231.687671  \n",
       "22           0.136986  2220.109589  \n",
       "23           0.104110  2216.526027  "
      ]
     },
     "execution_count": 57,
     "metadata": {},
     "output_type": "execute_result"
    }
   ],
   "source": [
    "cds.pivot_table(\n",
    "    values  = 'MWh', # the entry to aggregate over\n",
    "    index   = 'hour',  # the row grouping attributes\n",
    "    columns = 'Source',    # the column grouping attributes\n",
    "    aggfunc = 'mean'   # the aggregation function\n",
    ")"
   ]
  },
  {
   "cell_type": "markdown",
   "metadata": {},
   "source": [
    "In class challenge: create a pivot table where the columns are the hours, source is the column and the returned value is the standard deviation.\n",
    "\n",
    "Hint: write `std` to represent standard deviation."
   ]
  },
  {
   "cell_type": "code",
   "execution_count": 58,
   "metadata": {
    "ExecuteTime": {
     "end_time": "2018-01-29T01:36:32.882196Z",
     "start_time": "2018-01-29T01:36:32.859909Z"
    }
   },
   "outputs": [
    {
     "data": {
      "text/html": [
       "<div>\n",
       "<style scoped>\n",
       "    .dataframe tbody tr th:only-of-type {\n",
       "        vertical-align: middle;\n",
       "    }\n",
       "\n",
       "    .dataframe tbody tr th {\n",
       "        vertical-align: top;\n",
       "    }\n",
       "\n",
       "    .dataframe thead th {\n",
       "        text-align: right;\n",
       "    }\n",
       "</style>\n",
       "<table border=\"1\" class=\"dataframe\">\n",
       "  <thead>\n",
       "    <tr style=\"text-align: right;\">\n",
       "      <th>hour</th>\n",
       "      <th>0</th>\n",
       "      <th>1</th>\n",
       "      <th>2</th>\n",
       "      <th>3</th>\n",
       "      <th>4</th>\n",
       "      <th>5</th>\n",
       "      <th>6</th>\n",
       "      <th>7</th>\n",
       "      <th>8</th>\n",
       "      <th>9</th>\n",
       "      <th>...</th>\n",
       "      <th>14</th>\n",
       "      <th>15</th>\n",
       "      <th>16</th>\n",
       "      <th>17</th>\n",
       "      <th>18</th>\n",
       "      <th>19</th>\n",
       "      <th>20</th>\n",
       "      <th>21</th>\n",
       "      <th>22</th>\n",
       "      <th>23</th>\n",
       "    </tr>\n",
       "    <tr>\n",
       "      <th>Source</th>\n",
       "      <th></th>\n",
       "      <th></th>\n",
       "      <th></th>\n",
       "      <th></th>\n",
       "      <th></th>\n",
       "      <th></th>\n",
       "      <th></th>\n",
       "      <th></th>\n",
       "      <th></th>\n",
       "      <th></th>\n",
       "      <th></th>\n",
       "      <th></th>\n",
       "      <th></th>\n",
       "      <th></th>\n",
       "      <th></th>\n",
       "      <th></th>\n",
       "      <th></th>\n",
       "      <th></th>\n",
       "      <th></th>\n",
       "      <th></th>\n",
       "      <th></th>\n",
       "    </tr>\n",
       "  </thead>\n",
       "  <tbody>\n",
       "    <tr>\n",
       "      <td>BIOGAS</td>\n",
       "      <td>24.208922</td>\n",
       "      <td>23.991673</td>\n",
       "      <td>24.038100</td>\n",
       "      <td>24.017759</td>\n",
       "      <td>24.115212</td>\n",
       "      <td>24.141712</td>\n",
       "      <td>24.343529</td>\n",
       "      <td>24.655121</td>\n",
       "      <td>24.348700</td>\n",
       "      <td>24.293460</td>\n",
       "      <td>...</td>\n",
       "      <td>23.994552</td>\n",
       "      <td>24.065954</td>\n",
       "      <td>24.119106</td>\n",
       "      <td>24.135105</td>\n",
       "      <td>24.236869</td>\n",
       "      <td>24.395390</td>\n",
       "      <td>24.233660</td>\n",
       "      <td>24.155801</td>\n",
       "      <td>24.163106</td>\n",
       "      <td>24.181051</td>\n",
       "    </tr>\n",
       "    <tr>\n",
       "      <td>BIOMASS</td>\n",
       "      <td>39.395391</td>\n",
       "      <td>39.483585</td>\n",
       "      <td>39.133872</td>\n",
       "      <td>38.865774</td>\n",
       "      <td>39.296974</td>\n",
       "      <td>41.378684</td>\n",
       "      <td>43.382295</td>\n",
       "      <td>43.166284</td>\n",
       "      <td>43.748769</td>\n",
       "      <td>43.477372</td>\n",
       "      <td>...</td>\n",
       "      <td>43.339102</td>\n",
       "      <td>43.146359</td>\n",
       "      <td>44.108982</td>\n",
       "      <td>44.939578</td>\n",
       "      <td>45.188756</td>\n",
       "      <td>45.226068</td>\n",
       "      <td>45.349724</td>\n",
       "      <td>45.518096</td>\n",
       "      <td>43.297655</td>\n",
       "      <td>40.356501</td>\n",
       "    </tr>\n",
       "    <tr>\n",
       "      <td>GEOTHERMAL</td>\n",
       "      <td>107.008646</td>\n",
       "      <td>107.020407</td>\n",
       "      <td>106.876570</td>\n",
       "      <td>107.892763</td>\n",
       "      <td>109.751828</td>\n",
       "      <td>110.328041</td>\n",
       "      <td>110.390978</td>\n",
       "      <td>110.356101</td>\n",
       "      <td>111.295848</td>\n",
       "      <td>111.314533</td>\n",
       "      <td>...</td>\n",
       "      <td>109.817337</td>\n",
       "      <td>108.969067</td>\n",
       "      <td>107.797056</td>\n",
       "      <td>106.906617</td>\n",
       "      <td>106.493820</td>\n",
       "      <td>105.224292</td>\n",
       "      <td>103.201658</td>\n",
       "      <td>102.206035</td>\n",
       "      <td>103.147687</td>\n",
       "      <td>104.055501</td>\n",
       "    </tr>\n",
       "    <tr>\n",
       "      <td>SMALL HYDRO</td>\n",
       "      <td>75.704907</td>\n",
       "      <td>75.025985</td>\n",
       "      <td>76.055653</td>\n",
       "      <td>76.591467</td>\n",
       "      <td>77.159128</td>\n",
       "      <td>101.677470</td>\n",
       "      <td>99.380240</td>\n",
       "      <td>102.785461</td>\n",
       "      <td>95.406812</td>\n",
       "      <td>78.660512</td>\n",
       "      <td>...</td>\n",
       "      <td>83.461622</td>\n",
       "      <td>101.095424</td>\n",
       "      <td>113.822074</td>\n",
       "      <td>95.039306</td>\n",
       "      <td>85.177094</td>\n",
       "      <td>84.884026</td>\n",
       "      <td>90.366905</td>\n",
       "      <td>105.732538</td>\n",
       "      <td>103.713933</td>\n",
       "      <td>86.512380</td>\n",
       "    </tr>\n",
       "    <tr>\n",
       "      <td>SOLAR PV</td>\n",
       "      <td>8.530085</td>\n",
       "      <td>8.511417</td>\n",
       "      <td>8.498955</td>\n",
       "      <td>7.699876</td>\n",
       "      <td>7.645751</td>\n",
       "      <td>5.652271</td>\n",
       "      <td>494.037157</td>\n",
       "      <td>1466.581022</td>\n",
       "      <td>1601.608133</td>\n",
       "      <td>1518.656013</td>\n",
       "      <td>...</td>\n",
       "      <td>1850.497972</td>\n",
       "      <td>2428.163271</td>\n",
       "      <td>3084.566674</td>\n",
       "      <td>2825.992677</td>\n",
       "      <td>1601.602421</td>\n",
       "      <td>339.950077</td>\n",
       "      <td>20.858518</td>\n",
       "      <td>10.179514</td>\n",
       "      <td>9.911476</td>\n",
       "      <td>9.337124</td>\n",
       "    </tr>\n",
       "    <tr>\n",
       "      <td>SOLAR THERMAL</td>\n",
       "      <td>0.000000</td>\n",
       "      <td>0.000000</td>\n",
       "      <td>0.000000</td>\n",
       "      <td>0.000000</td>\n",
       "      <td>0.000000</td>\n",
       "      <td>0.330769</td>\n",
       "      <td>14.531259</td>\n",
       "      <td>86.281407</td>\n",
       "      <td>161.841097</td>\n",
       "      <td>189.281992</td>\n",
       "      <td>...</td>\n",
       "      <td>196.347549</td>\n",
       "      <td>207.831562</td>\n",
       "      <td>223.677018</td>\n",
       "      <td>202.883502</td>\n",
       "      <td>122.944332</td>\n",
       "      <td>30.685597</td>\n",
       "      <td>7.378595</td>\n",
       "      <td>4.172343</td>\n",
       "      <td>1.554107</td>\n",
       "      <td>1.412312</td>\n",
       "    </tr>\n",
       "    <tr>\n",
       "      <td>WIND TOTAL</td>\n",
       "      <td>1378.983785</td>\n",
       "      <td>1354.183127</td>\n",
       "      <td>1316.709390</td>\n",
       "      <td>1279.530491</td>\n",
       "      <td>1228.120679</td>\n",
       "      <td>1178.497093</td>\n",
       "      <td>1115.051493</td>\n",
       "      <td>1051.658522</td>\n",
       "      <td>1005.173453</td>\n",
       "      <td>996.708312</td>\n",
       "      <td>...</td>\n",
       "      <td>1207.036885</td>\n",
       "      <td>1267.169621</td>\n",
       "      <td>1314.250530</td>\n",
       "      <td>1339.114898</td>\n",
       "      <td>1348.444942</td>\n",
       "      <td>1359.157779</td>\n",
       "      <td>1372.515796</td>\n",
       "      <td>1385.125085</td>\n",
       "      <td>1386.860691</td>\n",
       "      <td>1389.857504</td>\n",
       "    </tr>\n",
       "  </tbody>\n",
       "</table>\n",
       "<p>7 rows × 24 columns</p>\n",
       "</div>"
      ],
      "text/plain": [
       "hour                    0            1            2            3   \\\n",
       "Source                                                              \n",
       "BIOGAS           24.208922    23.991673    24.038100    24.017759   \n",
       "BIOMASS          39.395391    39.483585    39.133872    38.865774   \n",
       "GEOTHERMAL      107.008646   107.020407   106.876570   107.892763   \n",
       "SMALL HYDRO      75.704907    75.025985    76.055653    76.591467   \n",
       "SOLAR PV          8.530085     8.511417     8.498955     7.699876   \n",
       "SOLAR THERMAL     0.000000     0.000000     0.000000     0.000000   \n",
       "WIND TOTAL     1378.983785  1354.183127  1316.709390  1279.530491   \n",
       "\n",
       "hour                    4            5            6            7   \\\n",
       "Source                                                              \n",
       "BIOGAS           24.115212    24.141712    24.343529    24.655121   \n",
       "BIOMASS          39.296974    41.378684    43.382295    43.166284   \n",
       "GEOTHERMAL      109.751828   110.328041   110.390978   110.356101   \n",
       "SMALL HYDRO      77.159128   101.677470    99.380240   102.785461   \n",
       "SOLAR PV          7.645751     5.652271   494.037157  1466.581022   \n",
       "SOLAR THERMAL     0.000000     0.330769    14.531259    86.281407   \n",
       "WIND TOTAL     1228.120679  1178.497093  1115.051493  1051.658522   \n",
       "\n",
       "hour                    8            9   ...           14           15  \\\n",
       "Source                                   ...                             \n",
       "BIOGAS           24.348700    24.293460  ...    23.994552    24.065954   \n",
       "BIOMASS          43.748769    43.477372  ...    43.339102    43.146359   \n",
       "GEOTHERMAL      111.295848   111.314533  ...   109.817337   108.969067   \n",
       "SMALL HYDRO      95.406812    78.660512  ...    83.461622   101.095424   \n",
       "SOLAR PV       1601.608133  1518.656013  ...  1850.497972  2428.163271   \n",
       "SOLAR THERMAL   161.841097   189.281992  ...   196.347549   207.831562   \n",
       "WIND TOTAL     1005.173453   996.708312  ...  1207.036885  1267.169621   \n",
       "\n",
       "hour                    16           17           18           19  \\\n",
       "Source                                                              \n",
       "BIOGAS           24.119106    24.135105    24.236869    24.395390   \n",
       "BIOMASS          44.108982    44.939578    45.188756    45.226068   \n",
       "GEOTHERMAL      107.797056   106.906617   106.493820   105.224292   \n",
       "SMALL HYDRO     113.822074    95.039306    85.177094    84.884026   \n",
       "SOLAR PV       3084.566674  2825.992677  1601.602421   339.950077   \n",
       "SOLAR THERMAL   223.677018   202.883502   122.944332    30.685597   \n",
       "WIND TOTAL     1314.250530  1339.114898  1348.444942  1359.157779   \n",
       "\n",
       "hour                    20           21           22           23  \n",
       "Source                                                             \n",
       "BIOGAS           24.233660    24.155801    24.163106    24.181051  \n",
       "BIOMASS          45.349724    45.518096    43.297655    40.356501  \n",
       "GEOTHERMAL      103.201658   102.206035   103.147687   104.055501  \n",
       "SMALL HYDRO      90.366905   105.732538   103.713933    86.512380  \n",
       "SOLAR PV         20.858518    10.179514     9.911476     9.337124  \n",
       "SOLAR THERMAL     7.378595     4.172343     1.554107     1.412312  \n",
       "WIND TOTAL     1372.515796  1385.125085  1386.860691  1389.857504  \n",
       "\n",
       "[7 rows x 24 columns]"
      ]
     },
     "execution_count": 58,
     "metadata": {},
     "output_type": "execute_result"
    }
   ],
   "source": [
    "cds.pivot_table(\n",
    "    values  = 'MWh',\n",
    "    index   = 'Source',\n",
    "    columns = 'hour',\n",
    "    aggfunc = 'std'\n",
    ")"
   ]
  }
 ],
 "metadata": {
  "kernelspec": {
   "display_name": "Python 3",
   "language": "python",
   "name": "python3"
  },
  "language_info": {
   "codemirror_mode": {
    "name": "ipython",
    "version": 3
   },
   "file_extension": ".py",
   "mimetype": "text/x-python",
   "name": "python",
   "nbconvert_exporter": "python",
   "pygments_lexer": "ipython3",
   "version": "3.7.4"
  }
 },
 "nbformat": 4,
 "nbformat_minor": 2
}
